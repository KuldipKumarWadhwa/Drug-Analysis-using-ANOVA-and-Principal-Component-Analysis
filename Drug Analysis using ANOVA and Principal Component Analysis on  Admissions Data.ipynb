{
 "cells": [
  {
   "cell_type": "code",
   "execution_count": 21,
   "metadata": {},
   "outputs": [],
   "source": [
    "import numpy as np\n",
    "import pandas as pd\n",
    "import seaborn as sns\n",
    "from statsmodels.formula.api import ols      # For n-way ANOVA\n",
    "from statsmodels.stats.anova import _get_covariance,anova_lm # For n-way ANOVA\n",
    "import matplotlib.pyplot as plt\n",
    "%matplotlib inline"
   ]
  },
  {
   "cell_type": "code",
   "execution_count": 172,
   "metadata": {},
   "outputs": [
    {
     "name": "stdout",
     "output_type": "stream",
     "text": [
      "to read the fle\n"
     ]
    }
   ],
   "source": [
    "print ('to read the fle') \n",
    "f1=pd.read_csv('Fever.csv')"
   ]
  },
  {
   "cell_type": "code",
   "execution_count": 173,
   "metadata": {},
   "outputs": [
    {
     "name": "stdout",
     "output_type": "stream",
     "text": [
      " to check the variables type\n",
      "<class 'pandas.core.frame.DataFrame'>\n",
      "RangeIndex: 36 entries, 0 to 35\n",
      "Data columns (total 4 columns):\n",
      "A            36 non-null int64\n",
      "B            36 non-null int64\n",
      "Volunteer    36 non-null int64\n",
      "Relief       36 non-null float64\n",
      "dtypes: float64(1), int64(3)\n",
      "memory usage: 1.2 KB\n"
     ]
    }
   ],
   "source": [
    "print(' to check the variables type') \n",
    "f1.info()"
   ]
  },
  {
   "cell_type": "code",
   "execution_count": 66,
   "metadata": {},
   "outputs": [
    {
     "name": "stdout",
     "output_type": "stream",
     "text": [
      "Column A, Coumn B , Column  Volunteer are showing Integer , We have to convert into categorical Variables before performing the ANOVA TEST\n"
     ]
    }
   ],
   "source": [
    "print('Column A, Coumn B , Column  Volunteer are showing Integer , We have to convert into categorical Variables before performing the ANOVA TEST')"
   ]
  },
  {
   "cell_type": "code",
   "execution_count": 64,
   "metadata": {},
   "outputs": [
    {
     "data": {
      "text/html": [
       "<div>\n",
       "<style scoped>\n",
       "    .dataframe tbody tr th:only-of-type {\n",
       "        vertical-align: middle;\n",
       "    }\n",
       "\n",
       "    .dataframe tbody tr th {\n",
       "        vertical-align: top;\n",
       "    }\n",
       "\n",
       "    .dataframe thead th {\n",
       "        text-align: right;\n",
       "    }\n",
       "</style>\n",
       "<table border=\"1\" class=\"dataframe\">\n",
       "  <thead>\n",
       "    <tr style=\"text-align: right;\">\n",
       "      <th></th>\n",
       "      <th>A</th>\n",
       "      <th>B</th>\n",
       "      <th>Volunteer</th>\n",
       "      <th>Relief</th>\n",
       "    </tr>\n",
       "  </thead>\n",
       "  <tbody>\n",
       "    <tr>\n",
       "      <td>0</td>\n",
       "      <td>1</td>\n",
       "      <td>1</td>\n",
       "      <td>1</td>\n",
       "      <td>2.4</td>\n",
       "    </tr>\n",
       "    <tr>\n",
       "      <td>1</td>\n",
       "      <td>1</td>\n",
       "      <td>1</td>\n",
       "      <td>2</td>\n",
       "      <td>2.7</td>\n",
       "    </tr>\n",
       "    <tr>\n",
       "      <td>2</td>\n",
       "      <td>1</td>\n",
       "      <td>1</td>\n",
       "      <td>3</td>\n",
       "      <td>2.3</td>\n",
       "    </tr>\n",
       "    <tr>\n",
       "      <td>3</td>\n",
       "      <td>1</td>\n",
       "      <td>1</td>\n",
       "      <td>4</td>\n",
       "      <td>2.5</td>\n",
       "    </tr>\n",
       "    <tr>\n",
       "      <td>4</td>\n",
       "      <td>1</td>\n",
       "      <td>2</td>\n",
       "      <td>1</td>\n",
       "      <td>4.6</td>\n",
       "    </tr>\n",
       "  </tbody>\n",
       "</table>\n",
       "</div>"
      ],
      "text/plain": [
       "   A  B  Volunteer  Relief\n",
       "0  1  1          1     2.4\n",
       "1  1  1          2     2.7\n",
       "2  1  1          3     2.3\n",
       "3  1  1          4     2.5\n",
       "4  1  2          1     4.6"
      ]
     },
     "execution_count": 64,
     "metadata": {},
     "output_type": "execute_result"
    }
   ],
   "source": [
    "print('to check top 5 records')\n",
    "f1.head(5)"
   ]
  },
  {
   "cell_type": "code",
   "execution_count": 174,
   "metadata": {},
   "outputs": [
    {
     "name": "stdout",
     "output_type": "stream",
     "text": [
      "Checking the dimension of the dataframe\n",
      "there are number of rows  in the dataset 36\n",
      "there are number of columns  in the dataset 4\n"
     ]
    }
   ],
   "source": [
    "print('Checking the dimension of the dataframe')\n",
    "f1.shape\n",
    "print ('there are number of rows  in the dataset',f1.shape[0])\n",
    "print ('there are number of columns  in the dataset',f1.shape[1])"
   ]
  },
  {
   "cell_type": "code",
   "execution_count": 171,
   "metadata": {},
   "outputs": [
    {
     "name": "stdout",
     "output_type": "stream",
     "text": [
      "converting the data type of  Volunteer into categorical variable\n"
     ]
    }
   ],
   "source": [
    "print('converting the data type of  Volunteer into categorical variable')\n",
    "f1.Volunteer=pd.Categorical(f1.Volunteer)"
   ]
  },
  {
   "cell_type": "code",
   "execution_count": 170,
   "metadata": {},
   "outputs": [
    {
     "name": "stdout",
     "output_type": "stream",
     "text": [
      "converting the data type of  A into categorical variable\n"
     ]
    }
   ],
   "source": [
    "print('converting the data type of  A into categorical variable')\n",
    "f1.A=pd.Categorical(f1.A)"
   ]
  },
  {
   "cell_type": "code",
   "execution_count": 169,
   "metadata": {},
   "outputs": [
    {
     "name": "stdout",
     "output_type": "stream",
     "text": [
      "converting the data type of  B into categorical variable\n"
     ]
    }
   ],
   "source": [
    "print('converting the data type of  B into categorical variable')\n",
    "f1.B=pd.Categorical(f1.B)"
   ]
  },
  {
   "cell_type": "code",
   "execution_count": 167,
   "metadata": {},
   "outputs": [
    {
     "name": "stdout",
     "output_type": "stream",
     "text": [
      "Checking the data type after converting into categorical variables\n",
      "<class 'pandas.core.frame.DataFrame'>\n",
      "RangeIndex: 36 entries, 0 to 35\n",
      "Data columns (total 4 columns):\n",
      "A            36 non-null category\n",
      "B            36 non-null category\n",
      "Volunteer    36 non-null category\n",
      "Relief       36 non-null float64\n",
      "dtypes: category(3), float64(1)\n",
      "memory usage: 924.0 bytes\n"
     ]
    }
   ],
   "source": [
    "print('Checking the data type after converting into categorical variables')\n",
    "f1.info()"
   ]
  },
  {
   "cell_type": "code",
   "execution_count": 166,
   "metadata": {},
   "outputs": [
    {
     "name": "stdout",
     "output_type": "stream",
     "text": [
      "Checking the summary of the dataframe\n"
     ]
    },
    {
     "data": {
      "text/html": [
       "<div>\n",
       "<style scoped>\n",
       "    .dataframe tbody tr th:only-of-type {\n",
       "        vertical-align: middle;\n",
       "    }\n",
       "\n",
       "    .dataframe tbody tr th {\n",
       "        vertical-align: top;\n",
       "    }\n",
       "\n",
       "    .dataframe thead th {\n",
       "        text-align: right;\n",
       "    }\n",
       "</style>\n",
       "<table border=\"1\" class=\"dataframe\">\n",
       "  <thead>\n",
       "    <tr style=\"text-align: right;\">\n",
       "      <th></th>\n",
       "      <th>Relief</th>\n",
       "    </tr>\n",
       "  </thead>\n",
       "  <tbody>\n",
       "    <tr>\n",
       "      <td>count</td>\n",
       "      <td>36.000000</td>\n",
       "    </tr>\n",
       "    <tr>\n",
       "      <td>mean</td>\n",
       "      <td>7.183333</td>\n",
       "    </tr>\n",
       "    <tr>\n",
       "      <td>std</td>\n",
       "      <td>3.272090</td>\n",
       "    </tr>\n",
       "    <tr>\n",
       "      <td>min</td>\n",
       "      <td>2.300000</td>\n",
       "    </tr>\n",
       "    <tr>\n",
       "      <td>25%</td>\n",
       "      <td>4.675000</td>\n",
       "    </tr>\n",
       "    <tr>\n",
       "      <td>50%</td>\n",
       "      <td>6.000000</td>\n",
       "    </tr>\n",
       "    <tr>\n",
       "      <td>75%</td>\n",
       "      <td>9.325000</td>\n",
       "    </tr>\n",
       "    <tr>\n",
       "      <td>max</td>\n",
       "      <td>13.500000</td>\n",
       "    </tr>\n",
       "  </tbody>\n",
       "</table>\n",
       "</div>"
      ],
      "text/plain": [
       "          Relief\n",
       "count  36.000000\n",
       "mean    7.183333\n",
       "std     3.272090\n",
       "min     2.300000\n",
       "25%     4.675000\n",
       "50%     6.000000\n",
       "75%     9.325000\n",
       "max    13.500000"
      ]
     },
     "execution_count": 166,
     "metadata": {},
     "output_type": "execute_result"
    }
   ],
   "source": [
    "print('Checking the summary of the dataframe')\n",
    "f1.describe()"
   ]
  },
  {
   "cell_type": "code",
   "execution_count": 165,
   "metadata": {},
   "outputs": [
    {
     "name": "stdout",
     "output_type": "stream",
     "text": [
      "Checking distinct values of Volunteer\n"
     ]
    },
    {
     "data": {
      "text/plain": [
       "4    9\n",
       "3    9\n",
       "2    9\n",
       "1    9\n",
       "Name: Volunteer, dtype: int64"
      ]
     },
     "execution_count": 165,
     "metadata": {},
     "output_type": "execute_result"
    }
   ],
   "source": [
    "print('Checking distinct values of Volunteer')\n",
    "\n",
    "f1.Volunteer.value_counts()"
   ]
  },
  {
   "cell_type": "code",
   "execution_count": 31,
   "metadata": {},
   "outputs": [
    {
     "data": {
      "text/plain": [
       "3    12\n",
       "2    12\n",
       "1    12\n",
       "Name: A, dtype: int64"
      ]
     },
     "execution_count": 31,
     "metadata": {},
     "output_type": "execute_result"
    }
   ],
   "source": [
    "print('Checking distinct values of variable A')\n",
    "f1.A.value_counts()"
   ]
  },
  {
   "cell_type": "code",
   "execution_count": 164,
   "metadata": {},
   "outputs": [
    {
     "name": "stdout",
     "output_type": "stream",
     "text": [
      "Checking distinct values of variable B\n"
     ]
    },
    {
     "data": {
      "text/plain": [
       "3    12\n",
       "2    12\n",
       "1    12\n",
       "Name: B, dtype: int64"
      ]
     },
     "execution_count": 164,
     "metadata": {},
     "output_type": "execute_result"
    }
   ],
   "source": [
    "print('Checking distinct values of variable B')\n",
    "f1.B.value_counts()"
   ]
  },
  {
   "cell_type": "code",
   "execution_count": 163,
   "metadata": {},
   "outputs": [
    {
     "name": "stdout",
     "output_type": "stream",
     "text": [
      "checking the outliers\n"
     ]
    },
    {
     "data": {
      "text/plain": [
       "<matplotlib.axes._subplots.AxesSubplot at 0x245f661bf08>"
      ]
     },
     "execution_count": 163,
     "metadata": {},
     "output_type": "execute_result"
    },
    {
     "data": {
      "image/png": "[encoded data removed]",
      "text/plain": [
       "<Figure size 1440x216 with 1 Axes>"
      ]
     },
     "metadata": {
      "needs_background": "light"
     },
     "output_type": "display_data"
    }
   ],
   "source": [
    "print('checking the outliers')\n",
    "f1.boxplot(figsize=(20,3))"
   ]
  },
  {
   "cell_type": "code",
   "execution_count": 175,
   "metadata": {},
   "outputs": [
    {
     "name": "stdout",
     "output_type": "stream",
     "text": [
      "1.1) State the Null and Alternate Hypothesis for conducting one-way ANOVA for both the variables ‘A’ and ‘B’ individually\n",
      "Formulate the Null and Alternate Hypothesis for Variable A\n",
      "𝐻0 (Null Hypothesis)\n",
      "There are 3 Levels of variable A is given in Dataset\n",
      "H0: Mean of A level 1(MA1) =Mean of A level 2(MA2)=Mean of A  level 3(MA3)\n",
      "𝐻1 (Alternate Hypothesis)\n",
      "H1: At least one Mean is different among 3 levels of A\n",
      "Formulate the Null and Alternate Hypothesis for Variable B\n",
      "𝐻0 (Null Hypothesis)\n",
      "There are 3 levels of variable B is given in Dataset\n",
      "H0: Mean of B level 1(MB1) =Mean of B level 2(MB2)=Mean of B level 3(MB3)\n",
      "𝐻1 (Alternate Hypothesis)\n",
      "H1: At least one Mean is different among 3 levels of B\n"
     ]
    }
   ],
   "source": [
    "\n",
    "print('1.1) State the Null and Alternate Hypothesis for conducting one-way ANOVA for both the variables ‘A’ and ‘B’ individually')\n",
    "#Formulate the Null and Alternate Hypothesis\n",
    "\n",
    "# Formulate the Null and Alternate Hypothesis for Variable A\n",
    "\n",
    "print('Formulate the Null and Alternate Hypothesis for Variable A')\n",
    "print('𝐻0 (Null Hypothesis)')\n",
    "print('There are 3 Levels of variable A is given in Dataset')\n",
    "print('H0: Mean of A level 1(MA1) =Mean of A level 2(MA2)=Mean of A  level 3(MA3)')\n",
    "print('𝐻1 (Alternate Hypothesis)')\n",
    "print('H1: At least one Mean is different among 3 levels of A')\n",
    "\n",
    "    \n",
    "# Formulate the Null and Alternate Hypothesis for Variable B\n",
    "print('Formulate the Null and Alternate Hypothesis for Variable B')\n",
    "print('𝐻0 (Null Hypothesis)')\n",
    "print('There are 3 levels of variable B is given in Dataset')\n",
    "print('H0: Mean of B level 1(MB1) =Mean of B level 2(MB2)=Mean of B level 3(MB3)')\n",
    "print('𝐻1 (Alternate Hypothesis)')\n",
    "print('H1: At least one Mean is different among 3 levels of B')\n",
    "    "
   ]
  },
  {
   "cell_type": "code",
   "execution_count": 93,
   "metadata": {},
   "outputs": [
    {
     "name": "stdout",
     "output_type": "stream",
     "text": [
      "𝐻0 (Null Hypothesis)\n",
      "H0: The means of Relief variable with respect to  A Ingredient  at all 3 levels is equal\n",
      "𝐻1 (Alternate Hypothesis)\n",
      "H1: At least one of the means of Relief variable with respect to A Ingredient at all 3 levels is unequal\n",
      "            df  sum_sq     mean_sq          F        PR(>F)\n",
      "C(A)       2.0  220.02  110.010000  23.465387  4.578242e-07\n",
      "Residual  33.0  154.71    4.688182        NaN           NaN\n"
     ]
    }
   ],
   "source": [
    "#1.2) Perform one-way ANOVA for variable ‘A’ with respect to the variable ‘Relief’. \n",
    "#State whether the Null Hypothesis is accepted or rejected based on the ANOVA results.\n",
    "\n",
    "print('𝐻0 (Null Hypothesis)')\n",
    "print('H0: The means of Relief variable with respect to  A Ingredient  at all 3 levels is equal')\n",
    "print('𝐻1 (Alternate Hypothesis)')\n",
    "print('H1: At least one of the means of Relief variable with respect to A Ingredient at all 3 levels is unequal')\n",
    "\n",
    "formula='Relief~ C(A)'\n",
    "model = ols(formula, f1).fit()\n",
    "aov_table = anova_lm(model)\n",
    "print(aov_table)"
   ]
  },
  {
   "cell_type": "code",
   "execution_count": 97,
   "metadata": {},
   "outputs": [
    {
     "name": "stdout",
     "output_type": "stream",
     "text": [
      "Conclusion: Since the p value is less than the significance level (0.05), we reject the null hypothesis and conclude that\n",
      "At least one mean of A among different levels is unequal\n"
     ]
    }
   ],
   "source": [
    "print('Conclusion: Since the p value is less than the significance level (0.05), we reject the null hypothesis and conclude that') \n",
    "print('At least one mean of A among different levels is unequal')"
   ]
  },
  {
   "cell_type": "code",
   "execution_count": 94,
   "metadata": {},
   "outputs": [
    {
     "name": "stdout",
     "output_type": "stream",
     "text": [
      "𝐻0 (Null Hypothesis)\n",
      "H0: The means of Relief variable with respect to  B Ingredient  at all 3 levels is equal\n",
      "𝐻1 (Alternate Hypothesis)\n",
      "H1: At least one of the means of Relief variable with respect to B Ingredient at all 3 levels is unequal\n",
      "            df  sum_sq    mean_sq         F   PR(>F)\n",
      "C(B)       2.0  123.66  61.830000  8.126777  0.00135\n",
      "Residual  33.0  251.07   7.608182       NaN      NaN\n"
     ]
    }
   ],
   "source": [
    "#1.3) Perform one-way ANOVA for variable ‘B’ with respect to the variable ‘Relief’. \n",
    "#State whether the Null Hypothesis is accepted or rejected based on the ANOVA results.\n",
    "\n",
    "print('𝐻0 (Null Hypothesis)')\n",
    "print('H0: The means of Relief variable with respect to  B Ingredient  at all 3 levels is equal')\n",
    "print('𝐻1 (Alternate Hypothesis)')\n",
    "print('H1: At least one of the means of Relief variable with respect to B Ingredient at all 3 levels is unequal')\n",
    "\n",
    "formula='Relief~ C(B)'\n",
    "model = ols(formula, f1).fit()\n",
    "aov_table = anova_lm(model)\n",
    "print(aov_table)"
   ]
  },
  {
   "cell_type": "code",
   "execution_count": 98,
   "metadata": {},
   "outputs": [
    {
     "name": "stdout",
     "output_type": "stream",
     "text": [
      "Conclusion: Since the p value is less than the significance level (0.05), we reject the null hypothesis and conclude that\n",
      "At least one  means of B among different levels is unequal\n"
     ]
    }
   ],
   "source": [
    "print('Conclusion: Since the p value is less than the significance level (0.05), we reject the null hypothesis and conclude that') \n",
    "print('At least one  means of B among different levels is unequal')"
   ]
  },
  {
   "cell_type": "code",
   "execution_count": 36,
   "metadata": {},
   "outputs": [
    {
     "data": {
      "text/plain": [
       "<matplotlib.axes._subplots.AxesSubplot at 0x278ff8f9788>"
      ]
     },
     "execution_count": 36,
     "metadata": {},
     "output_type": "execute_result"
    },
    {
     "data": {
      "image/png": "[encoded data removed]",
      "text/plain": [
       "<Figure size 432x288 with 1 Axes>"
      ]
     },
     "metadata": {
      "needs_background": "light"
     },
     "output_type": "display_data"
    }
   ],
   "source": [
    "#1.4) Analyse the effects of one variable on another with the help of an interaction plot.\n",
    "#What is an interaction between two treatments?\n",
    "sns.pointplot(x='A', y='Relief', data=f1,hue='B')"
   ]
  },
  {
   "cell_type": "code",
   "execution_count": 44,
   "metadata": {},
   "outputs": [
    {
     "data": {
      "text/plain": [
       "<matplotlib.axes._subplots.AxesSubplot at 0x278fffcc788>"
      ]
     },
     "execution_count": 44,
     "metadata": {},
     "output_type": "execute_result"
    },
    {
     "data": {
      "image/png": "[encoded data removed]",
      "text/plain": [
       "<Figure size 432x288 with 1 Axes>"
      ]
     },
     "metadata": {
      "needs_background": "light"
     },
     "output_type": "display_data"
    }
   ],
   "source": [
    "sns.pointplot(x='B', y='Relief', data=f1,hue='A')"
   ]
  },
  {
   "cell_type": "code",
   "execution_count": 51,
   "metadata": {},
   "outputs": [
    {
     "data": {
      "text/plain": [
       "<matplotlib.axes._subplots.AxesSubplot at 0x27881049e48>"
      ]
     },
     "execution_count": 51,
     "metadata": {},
     "output_type": "execute_result"
    },
    {
     "data": {
      "image/png": "[encoded data removed]",
      "text/plain": [
       "<Figure size 432x288 with 1 Axes>"
      ]
     },
     "metadata": {
      "needs_background": "light"
     },
     "output_type": "display_data"
    }
   ],
   "source": [
    "sns.pointplot(x='A', y='Relief', data=f1,hue='B',ci=None)"
   ]
  },
  {
   "cell_type": "code",
   "execution_count": 59,
   "metadata": {},
   "outputs": [
    {
     "name": "stdout",
     "output_type": "stream",
     "text": [
      "             df   sum_sq     mean_sq            F        PR(>F)\n",
      "C(A)        2.0  220.020  110.010000  1827.858462  1.514043e-29\n",
      "C(B)        2.0  123.660   61.830000  1027.329231  3.348751e-26\n",
      "C(A):C(B)   4.0   29.425    7.356250   122.226923  6.972083e-17\n",
      "Residual   27.0    1.625    0.060185          NaN           NaN\n"
     ]
    }
   ],
   "source": [
    "formula = 'Relief ~ C(A) + C(B) +C(A):C(B)'\n",
    "model2 = ols(formula, f1).fit()\n",
    "aov_table2 = anova_lm(model2)\n",
    "print(aov_table2)"
   ]
  },
  {
   "cell_type": "code",
   "execution_count": 82,
   "metadata": {},
   "outputs": [
    {
     "name": "stdout",
     "output_type": "stream",
     "text": [
      "We have drawn the point plot as well as calculated the interaction statistically\n",
      "From the point plot and statistically we can conclude Variable A and Variable B are Interacted\n"
     ]
    }
   ],
   "source": [
    "#Note : Interference need to be written\n",
    "print('We have drawn the point plot as well as calculated the interaction statistically')\n",
    "print('From the point plot and statistically we can conclude Variable A and Variable B are Interacted')"
   ]
  },
  {
   "cell_type": "code",
   "execution_count": 83,
   "metadata": {},
   "outputs": [
    {
     "name": "stdout",
     "output_type": "stream",
     "text": [
      "𝐻0 (Null Hypothesis)\n",
      "H0: The means of Relief variable with respect to each A and B Ingredient at all 3 levels is equal\n",
      "𝐻1 (Alternate Hypothesis)\n",
      "H1: At least one of the means of Relief variable with respect to A and B Ingredient at all 3 levels is unequal\n"
     ]
    }
   ],
   "source": [
    "#1.5) Perform a two-way ANOVA based on the different ingredients (variable ‘A’ & ‘B’) with the variable 'Relief' and state your results.\n",
    "# Formulate the Null and Alternate Hypothesis for Variable B\n",
    "\n",
    "\n",
    "print('𝐻0 (Null Hypothesis)')\n",
    "print('H0: The means of Relief variable with respect to each A and B Ingredient at all 3 levels is equal')\n",
    "print('𝐻1 (Alternate Hypothesis)')\n",
    "print('H1: At least one of the means of Relief variable with respect to A and B Ingredient at all 3 levels is unequal')\n",
    "\n",
    "\n",
    "\n"
   ]
  },
  {
   "cell_type": "code",
   "execution_count": 54,
   "metadata": {},
   "outputs": [
    {
     "name": "stdout",
     "output_type": "stream",
     "text": [
      "            df  sum_sq     mean_sq           F        PR(>F)\n",
      "C(A)       2.0  220.02  110.010000  109.832850  8.514029e-15\n",
      "C(B)       2.0  123.66   61.830000   61.730435  1.546749e-11\n",
      "Residual  31.0   31.05    1.001613         NaN           NaN\n"
     ]
    }
   ],
   "source": [
    "# performing two anova test\n",
    "formula = 'Relief ~ C(A) + C(B)'\n",
    "model = ols(formula, f1).fit()\n",
    "aov_table = anova_lm(model)\n",
    "print(aov_table)"
   ]
  },
  {
   "cell_type": "code",
   "execution_count": 55,
   "metadata": {},
   "outputs": [
    {
     "name": "stdout",
     "output_type": "stream",
     "text": [
      "Conclusion: Since the p value is less than the significance level (0.05), we reject the null hupothesis and conclude that\n",
      "At least one of the means of Relief variable with respect to A and B variable Category is unequal\n"
     ]
    }
   ],
   "source": [
    "print('Conclusion: Since the p value is less than the significance level (0.05), we reject the null hupothesis and conclude that') \n",
    "print('At least one of the means of Relief variable with respect to A and B variable Category is unequal')"
   ]
  },
  {
   "cell_type": "code",
   "execution_count": 96,
   "metadata": {},
   "outputs": [
    {
     "name": "stdout",
     "output_type": "stream",
     "text": [
      "There are the following business implications of performing ANOVA .\n",
      "Anova (Analysis of variance) is technique, it is hypothesis test to compare several means .\n",
      "We Will able to get the answers of the following questions as far as ANOVA Test is concerned .\n",
      "Does Ingredient A matter when it comes to new compound for Relief .\n",
      "Does Ingredient B matter when it comes to new compound for Relief . \n",
      "Does Ingredient A and B matter when it comes to new compound for Relief . \n",
      "From the test it is quite clear that Ingredient A /Ingredient B/ Both Ingredient A and Ingredient B play the significant role \n",
      "in the compound of Relief .\n"
     ]
    }
   ],
   "source": [
    "#1.6) Mention the business implications of performing ANOVA for this particular case study.\n",
    "print('There are the following business implications of performing ANOVA .') \n",
    "print('Anova (Analysis of variance) is technique, it is hypothesis test to compare several means .')\n",
    "print('We Will able to get the answers of the following questions as far as ANOVA Test is concerned .') \n",
    "print('Does Ingredient A matter when it comes to new compound for Relief .') \n",
    "print('Does Ingredient B matter when it comes to new compound for Relief . ')\n",
    "print('Does Ingredient A and B matter when it comes to new compound for Relief . ')\n",
    "print('From the test it is quite clear that Ingredient A /Ingredient B/ Both Ingredient A and Ingredient B play the significant role ')\n",
    "print('in the compound of Relief .') \n"
   ]
  },
  {
   "cell_type": "code",
   "execution_count": 86,
   "metadata": {},
   "outputs": [],
   "source": [
    "e1=pd.read_csv('Education.csv')\n"
   ]
  },
  {
   "cell_type": "code",
   "execution_count": 180,
   "metadata": {},
   "outputs": [
    {
     "name": "stdout",
     "output_type": "stream",
     "text": [
      "2.1) Perform Exploratory Data Analysis [both univariate and multivariate analysis to be performed\n",
      "Checking the top 5 records\n"
     ]
    },
    {
     "data": {
      "text/html": [
       "<div>\n",
       "<style scoped>\n",
       "    .dataframe tbody tr th:only-of-type {\n",
       "        vertical-align: middle;\n",
       "    }\n",
       "\n",
       "    .dataframe tbody tr th {\n",
       "        vertical-align: top;\n",
       "    }\n",
       "\n",
       "    .dataframe thead th {\n",
       "        text-align: right;\n",
       "    }\n",
       "</style>\n",
       "<table border=\"1\" class=\"dataframe\">\n",
       "  <thead>\n",
       "    <tr style=\"text-align: right;\">\n",
       "      <th></th>\n",
       "      <th>Names</th>\n",
       "      <th>Apps</th>\n",
       "      <th>Accept</th>\n",
       "      <th>Enroll</th>\n",
       "      <th>Top10perc</th>\n",
       "      <th>Top25perc</th>\n",
       "      <th>F.Undergrad</th>\n",
       "      <th>P.Undergrad</th>\n",
       "      <th>Outstate</th>\n",
       "      <th>Room.Board</th>\n",
       "      <th>Books</th>\n",
       "      <th>Personal</th>\n",
       "      <th>PhD</th>\n",
       "      <th>Terminal</th>\n",
       "      <th>S.F.Ratio</th>\n",
       "      <th>perc.alumni</th>\n",
       "      <th>Expend</th>\n",
       "      <th>Grad.Rate</th>\n",
       "    </tr>\n",
       "  </thead>\n",
       "  <tbody>\n",
       "    <tr>\n",
       "      <td>0</td>\n",
       "      <td>Abilene Christian University</td>\n",
       "      <td>1660</td>\n",
       "      <td>1232</td>\n",
       "      <td>721</td>\n",
       "      <td>23</td>\n",
       "      <td>52</td>\n",
       "      <td>2885</td>\n",
       "      <td>537</td>\n",
       "      <td>7440</td>\n",
       "      <td>3300</td>\n",
       "      <td>450</td>\n",
       "      <td>2200</td>\n",
       "      <td>70</td>\n",
       "      <td>78</td>\n",
       "      <td>18.1</td>\n",
       "      <td>12</td>\n",
       "      <td>7041</td>\n",
       "      <td>60</td>\n",
       "    </tr>\n",
       "    <tr>\n",
       "      <td>1</td>\n",
       "      <td>Adelphi University</td>\n",
       "      <td>2186</td>\n",
       "      <td>1924</td>\n",
       "      <td>512</td>\n",
       "      <td>16</td>\n",
       "      <td>29</td>\n",
       "      <td>2683</td>\n",
       "      <td>1227</td>\n",
       "      <td>12280</td>\n",
       "      <td>6450</td>\n",
       "      <td>750</td>\n",
       "      <td>1500</td>\n",
       "      <td>29</td>\n",
       "      <td>30</td>\n",
       "      <td>12.2</td>\n",
       "      <td>16</td>\n",
       "      <td>10527</td>\n",
       "      <td>56</td>\n",
       "    </tr>\n",
       "    <tr>\n",
       "      <td>2</td>\n",
       "      <td>Adrian College</td>\n",
       "      <td>1428</td>\n",
       "      <td>1097</td>\n",
       "      <td>336</td>\n",
       "      <td>22</td>\n",
       "      <td>50</td>\n",
       "      <td>1036</td>\n",
       "      <td>99</td>\n",
       "      <td>11250</td>\n",
       "      <td>3750</td>\n",
       "      <td>400</td>\n",
       "      <td>1165</td>\n",
       "      <td>53</td>\n",
       "      <td>66</td>\n",
       "      <td>12.9</td>\n",
       "      <td>30</td>\n",
       "      <td>8735</td>\n",
       "      <td>54</td>\n",
       "    </tr>\n",
       "    <tr>\n",
       "      <td>3</td>\n",
       "      <td>Agnes Scott College</td>\n",
       "      <td>417</td>\n",
       "      <td>349</td>\n",
       "      <td>137</td>\n",
       "      <td>60</td>\n",
       "      <td>89</td>\n",
       "      <td>510</td>\n",
       "      <td>63</td>\n",
       "      <td>12960</td>\n",
       "      <td>5450</td>\n",
       "      <td>450</td>\n",
       "      <td>875</td>\n",
       "      <td>92</td>\n",
       "      <td>97</td>\n",
       "      <td>7.7</td>\n",
       "      <td>37</td>\n",
       "      <td>19016</td>\n",
       "      <td>59</td>\n",
       "    </tr>\n",
       "    <tr>\n",
       "      <td>4</td>\n",
       "      <td>Alaska Pacific University</td>\n",
       "      <td>193</td>\n",
       "      <td>146</td>\n",
       "      <td>55</td>\n",
       "      <td>16</td>\n",
       "      <td>44</td>\n",
       "      <td>249</td>\n",
       "      <td>869</td>\n",
       "      <td>7560</td>\n",
       "      <td>4120</td>\n",
       "      <td>800</td>\n",
       "      <td>1500</td>\n",
       "      <td>76</td>\n",
       "      <td>72</td>\n",
       "      <td>11.9</td>\n",
       "      <td>2</td>\n",
       "      <td>10922</td>\n",
       "      <td>15</td>\n",
       "    </tr>\n",
       "  </tbody>\n",
       "</table>\n",
       "</div>"
      ],
      "text/plain": [
       "                          Names  Apps  Accept  Enroll  Top10perc  Top25perc  \\\n",
       "0  Abilene Christian University  1660    1232     721         23         52   \n",
       "1            Adelphi University  2186    1924     512         16         29   \n",
       "2                Adrian College  1428    1097     336         22         50   \n",
       "3           Agnes Scott College   417     349     137         60         89   \n",
       "4     Alaska Pacific University   193     146      55         16         44   \n",
       "\n",
       "   F.Undergrad  P.Undergrad  Outstate  Room.Board  Books  Personal  PhD  \\\n",
       "0         2885          537      7440        3300    450      2200   70   \n",
       "1         2683         1227     12280        6450    750      1500   29   \n",
       "2         1036           99     11250        3750    400      1165   53   \n",
       "3          510           63     12960        5450    450       875   92   \n",
       "4          249          869      7560        4120    800      1500   76   \n",
       "\n",
       "   Terminal  S.F.Ratio  perc.alumni  Expend  Grad.Rate  \n",
       "0        78       18.1           12    7041         60  \n",
       "1        30       12.2           16   10527         56  \n",
       "2        66       12.9           30    8735         54  \n",
       "3        97        7.7           37   19016         59  \n",
       "4        72       11.9            2   10922         15  "
      ]
     },
     "execution_count": 180,
     "metadata": {},
     "output_type": "execute_result"
    }
   ],
   "source": [
    "print('2.1) Perform Exploratory Data Analysis [both univariate and multivariate analysis to be performed') \n",
    "print('Checking the top 5 records')\n",
    "e1.head()"
   ]
  },
  {
   "cell_type": "code",
   "execution_count": 179,
   "metadata": {},
   "outputs": [
    {
     "name": "stdout",
     "output_type": "stream",
     "text": [
      "Checking the dimension of the dataframe\n",
      "there are number of rows  in the dataset 777\n",
      "there are number of columns  in the dataset 18\n"
     ]
    }
   ],
   "source": [
    "print('Checking the dimension of the dataframe')\n",
    "e1.shape\n",
    "print ('there are number of rows  in the dataset',e1.shape[0])\n",
    "print ('there are number of columns  in the dataset',e1.shape[1])"
   ]
  },
  {
   "cell_type": "code",
   "execution_count": 178,
   "metadata": {},
   "outputs": [
    {
     "name": "stdout",
     "output_type": "stream",
     "text": [
      "checking the data types of the dataset\n"
     ]
    },
    {
     "data": {
      "text/plain": [
       "Names           object\n",
       "Apps             int64\n",
       "Accept           int64\n",
       "Enroll           int64\n",
       "Top10perc        int64\n",
       "Top25perc        int64\n",
       "F.Undergrad      int64\n",
       "P.Undergrad      int64\n",
       "Outstate         int64\n",
       "Room.Board       int64\n",
       "Books            int64\n",
       "Personal         int64\n",
       "PhD              int64\n",
       "Terminal         int64\n",
       "S.F.Ratio      float64\n",
       "perc.alumni      int64\n",
       "Expend           int64\n",
       "Grad.Rate        int64\n",
       "dtype: object"
      ]
     },
     "execution_count": 178,
     "metadata": {},
     "output_type": "execute_result"
    }
   ],
   "source": [
    "print('checking the data types of the dataset')\n",
    "e1.dtypes"
   ]
  },
  {
   "cell_type": "code",
   "execution_count": 177,
   "metadata": {},
   "outputs": [
    {
     "name": "stdout",
     "output_type": "stream",
     "text": [
      "Summary of the dataset\n"
     ]
    },
    {
     "data": {
      "text/html": [
       "<div>\n",
       "<style scoped>\n",
       "    .dataframe tbody tr th:only-of-type {\n",
       "        vertical-align: middle;\n",
       "    }\n",
       "\n",
       "    .dataframe tbody tr th {\n",
       "        vertical-align: top;\n",
       "    }\n",
       "\n",
       "    .dataframe thead th {\n",
       "        text-align: right;\n",
       "    }\n",
       "</style>\n",
       "<table border=\"1\" class=\"dataframe\">\n",
       "  <thead>\n",
       "    <tr style=\"text-align: right;\">\n",
       "      <th></th>\n",
       "      <th>Apps</th>\n",
       "      <th>Accept</th>\n",
       "      <th>Enroll</th>\n",
       "      <th>Top10perc</th>\n",
       "      <th>Top25perc</th>\n",
       "      <th>F.Undergrad</th>\n",
       "      <th>P.Undergrad</th>\n",
       "      <th>Outstate</th>\n",
       "      <th>Room.Board</th>\n",
       "      <th>Books</th>\n",
       "      <th>Personal</th>\n",
       "      <th>PhD</th>\n",
       "      <th>Terminal</th>\n",
       "      <th>S.F.Ratio</th>\n",
       "      <th>perc.alumni</th>\n",
       "      <th>Expend</th>\n",
       "      <th>Grad.Rate</th>\n",
       "    </tr>\n",
       "  </thead>\n",
       "  <tbody>\n",
       "    <tr>\n",
       "      <td>count</td>\n",
       "      <td>777.000000</td>\n",
       "      <td>777.000000</td>\n",
       "      <td>777.000000</td>\n",
       "      <td>777.000000</td>\n",
       "      <td>777.000000</td>\n",
       "      <td>777.000000</td>\n",
       "      <td>777.000000</td>\n",
       "      <td>777.000000</td>\n",
       "      <td>777.000000</td>\n",
       "      <td>777.000000</td>\n",
       "      <td>777.000000</td>\n",
       "      <td>777.000000</td>\n",
       "      <td>777.000000</td>\n",
       "      <td>777.000000</td>\n",
       "      <td>777.000000</td>\n",
       "      <td>777.000000</td>\n",
       "      <td>777.00000</td>\n",
       "    </tr>\n",
       "    <tr>\n",
       "      <td>mean</td>\n",
       "      <td>3001.638353</td>\n",
       "      <td>2018.804376</td>\n",
       "      <td>779.972973</td>\n",
       "      <td>27.558559</td>\n",
       "      <td>55.796654</td>\n",
       "      <td>3699.907336</td>\n",
       "      <td>855.298584</td>\n",
       "      <td>10440.669241</td>\n",
       "      <td>4357.526384</td>\n",
       "      <td>549.380952</td>\n",
       "      <td>1340.642214</td>\n",
       "      <td>72.660232</td>\n",
       "      <td>79.702703</td>\n",
       "      <td>14.089704</td>\n",
       "      <td>22.743887</td>\n",
       "      <td>9660.171171</td>\n",
       "      <td>65.46332</td>\n",
       "    </tr>\n",
       "    <tr>\n",
       "      <td>std</td>\n",
       "      <td>3870.201484</td>\n",
       "      <td>2451.113971</td>\n",
       "      <td>929.176190</td>\n",
       "      <td>17.640364</td>\n",
       "      <td>19.804778</td>\n",
       "      <td>4850.420531</td>\n",
       "      <td>1522.431887</td>\n",
       "      <td>4023.016484</td>\n",
       "      <td>1096.696416</td>\n",
       "      <td>165.105360</td>\n",
       "      <td>677.071454</td>\n",
       "      <td>16.328155</td>\n",
       "      <td>14.722359</td>\n",
       "      <td>3.958349</td>\n",
       "      <td>12.391801</td>\n",
       "      <td>5221.768440</td>\n",
       "      <td>17.17771</td>\n",
       "    </tr>\n",
       "    <tr>\n",
       "      <td>min</td>\n",
       "      <td>81.000000</td>\n",
       "      <td>72.000000</td>\n",
       "      <td>35.000000</td>\n",
       "      <td>1.000000</td>\n",
       "      <td>9.000000</td>\n",
       "      <td>139.000000</td>\n",
       "      <td>1.000000</td>\n",
       "      <td>2340.000000</td>\n",
       "      <td>1780.000000</td>\n",
       "      <td>96.000000</td>\n",
       "      <td>250.000000</td>\n",
       "      <td>8.000000</td>\n",
       "      <td>24.000000</td>\n",
       "      <td>2.500000</td>\n",
       "      <td>0.000000</td>\n",
       "      <td>3186.000000</td>\n",
       "      <td>10.00000</td>\n",
       "    </tr>\n",
       "    <tr>\n",
       "      <td>25%</td>\n",
       "      <td>776.000000</td>\n",
       "      <td>604.000000</td>\n",
       "      <td>242.000000</td>\n",
       "      <td>15.000000</td>\n",
       "      <td>41.000000</td>\n",
       "      <td>992.000000</td>\n",
       "      <td>95.000000</td>\n",
       "      <td>7320.000000</td>\n",
       "      <td>3597.000000</td>\n",
       "      <td>470.000000</td>\n",
       "      <td>850.000000</td>\n",
       "      <td>62.000000</td>\n",
       "      <td>71.000000</td>\n",
       "      <td>11.500000</td>\n",
       "      <td>13.000000</td>\n",
       "      <td>6751.000000</td>\n",
       "      <td>53.00000</td>\n",
       "    </tr>\n",
       "    <tr>\n",
       "      <td>50%</td>\n",
       "      <td>1558.000000</td>\n",
       "      <td>1110.000000</td>\n",
       "      <td>434.000000</td>\n",
       "      <td>23.000000</td>\n",
       "      <td>54.000000</td>\n",
       "      <td>1707.000000</td>\n",
       "      <td>353.000000</td>\n",
       "      <td>9990.000000</td>\n",
       "      <td>4200.000000</td>\n",
       "      <td>500.000000</td>\n",
       "      <td>1200.000000</td>\n",
       "      <td>75.000000</td>\n",
       "      <td>82.000000</td>\n",
       "      <td>13.600000</td>\n",
       "      <td>21.000000</td>\n",
       "      <td>8377.000000</td>\n",
       "      <td>65.00000</td>\n",
       "    </tr>\n",
       "    <tr>\n",
       "      <td>75%</td>\n",
       "      <td>3624.000000</td>\n",
       "      <td>2424.000000</td>\n",
       "      <td>902.000000</td>\n",
       "      <td>35.000000</td>\n",
       "      <td>69.000000</td>\n",
       "      <td>4005.000000</td>\n",
       "      <td>967.000000</td>\n",
       "      <td>12925.000000</td>\n",
       "      <td>5050.000000</td>\n",
       "      <td>600.000000</td>\n",
       "      <td>1700.000000</td>\n",
       "      <td>85.000000</td>\n",
       "      <td>92.000000</td>\n",
       "      <td>16.500000</td>\n",
       "      <td>31.000000</td>\n",
       "      <td>10830.000000</td>\n",
       "      <td>78.00000</td>\n",
       "    </tr>\n",
       "    <tr>\n",
       "      <td>max</td>\n",
       "      <td>48094.000000</td>\n",
       "      <td>26330.000000</td>\n",
       "      <td>6392.000000</td>\n",
       "      <td>96.000000</td>\n",
       "      <td>100.000000</td>\n",
       "      <td>31643.000000</td>\n",
       "      <td>21836.000000</td>\n",
       "      <td>21700.000000</td>\n",
       "      <td>8124.000000</td>\n",
       "      <td>2340.000000</td>\n",
       "      <td>6800.000000</td>\n",
       "      <td>103.000000</td>\n",
       "      <td>100.000000</td>\n",
       "      <td>39.800000</td>\n",
       "      <td>64.000000</td>\n",
       "      <td>56233.000000</td>\n",
       "      <td>118.00000</td>\n",
       "    </tr>\n",
       "  </tbody>\n",
       "</table>\n",
       "</div>"
      ],
      "text/plain": [
       "               Apps        Accept       Enroll   Top10perc   Top25perc  \\\n",
       "count    777.000000    777.000000   777.000000  777.000000  777.000000   \n",
       "mean    3001.638353   2018.804376   779.972973   27.558559   55.796654   \n",
       "std     3870.201484   2451.113971   929.176190   17.640364   19.804778   \n",
       "min       81.000000     72.000000    35.000000    1.000000    9.000000   \n",
       "25%      776.000000    604.000000   242.000000   15.000000   41.000000   \n",
       "50%     1558.000000   1110.000000   434.000000   23.000000   54.000000   \n",
       "75%     3624.000000   2424.000000   902.000000   35.000000   69.000000   \n",
       "max    48094.000000  26330.000000  6392.000000   96.000000  100.000000   \n",
       "\n",
       "        F.Undergrad   P.Undergrad      Outstate   Room.Board        Books  \\\n",
       "count    777.000000    777.000000    777.000000   777.000000   777.000000   \n",
       "mean    3699.907336    855.298584  10440.669241  4357.526384   549.380952   \n",
       "std     4850.420531   1522.431887   4023.016484  1096.696416   165.105360   \n",
       "min      139.000000      1.000000   2340.000000  1780.000000    96.000000   \n",
       "25%      992.000000     95.000000   7320.000000  3597.000000   470.000000   \n",
       "50%     1707.000000    353.000000   9990.000000  4200.000000   500.000000   \n",
       "75%     4005.000000    967.000000  12925.000000  5050.000000   600.000000   \n",
       "max    31643.000000  21836.000000  21700.000000  8124.000000  2340.000000   \n",
       "\n",
       "          Personal         PhD    Terminal   S.F.Ratio  perc.alumni  \\\n",
       "count   777.000000  777.000000  777.000000  777.000000   777.000000   \n",
       "mean   1340.642214   72.660232   79.702703   14.089704    22.743887   \n",
       "std     677.071454   16.328155   14.722359    3.958349    12.391801   \n",
       "min     250.000000    8.000000   24.000000    2.500000     0.000000   \n",
       "25%     850.000000   62.000000   71.000000   11.500000    13.000000   \n",
       "50%    1200.000000   75.000000   82.000000   13.600000    21.000000   \n",
       "75%    1700.000000   85.000000   92.000000   16.500000    31.000000   \n",
       "max    6800.000000  103.000000  100.000000   39.800000    64.000000   \n",
       "\n",
       "             Expend  Grad.Rate  \n",
       "count    777.000000  777.00000  \n",
       "mean    9660.171171   65.46332  \n",
       "std     5221.768440   17.17771  \n",
       "min     3186.000000   10.00000  \n",
       "25%     6751.000000   53.00000  \n",
       "50%     8377.000000   65.00000  \n",
       "75%    10830.000000   78.00000  \n",
       "max    56233.000000  118.00000  "
      ]
     },
     "execution_count": 177,
     "metadata": {},
     "output_type": "execute_result"
    }
   ],
   "source": [
    "print('Summary of the dataset')\n",
    "e1.describe()"
   ]
  },
  {
   "cell_type": "code",
   "execution_count": 176,
   "metadata": {},
   "outputs": [
    {
     "name": "stdout",
     "output_type": "stream",
     "text": [
      " Check for missing value in any column\n"
     ]
    },
    {
     "data": {
      "text/plain": [
       "Names          0\n",
       "Apps           0\n",
       "Accept         0\n",
       "Enroll         0\n",
       "Top10perc      0\n",
       "Top25perc      0\n",
       "F.Undergrad    0\n",
       "P.Undergrad    0\n",
       "Outstate       0\n",
       "Room.Board     0\n",
       "Books          0\n",
       "Personal       0\n",
       "PhD            0\n",
       "Terminal       0\n",
       "S.F.Ratio      0\n",
       "perc.alumni    0\n",
       "Expend         0\n",
       "Grad.Rate      0\n",
       "dtype: int64"
      ]
     },
     "execution_count": 176,
     "metadata": {},
     "output_type": "execute_result"
    }
   ],
   "source": [
    "print(' Check for missing value in any column')\n",
    "e1.isna().sum()"
   ]
  },
  {
   "cell_type": "code",
   "execution_count": 181,
   "metadata": {},
   "outputs": [
    {
     "name": "stdout",
     "output_type": "stream",
     "text": [
      "Checking for duplicate data\n",
      "Number of duplicate rows = 0\n"
     ]
    },
    {
     "data": {
      "text/html": [
       "<div>\n",
       "<style scoped>\n",
       "    .dataframe tbody tr th:only-of-type {\n",
       "        vertical-align: middle;\n",
       "    }\n",
       "\n",
       "    .dataframe tbody tr th {\n",
       "        vertical-align: top;\n",
       "    }\n",
       "\n",
       "    .dataframe thead th {\n",
       "        text-align: right;\n",
       "    }\n",
       "</style>\n",
       "<table border=\"1\" class=\"dataframe\">\n",
       "  <thead>\n",
       "    <tr style=\"text-align: right;\">\n",
       "      <th></th>\n",
       "      <th>Names</th>\n",
       "      <th>Apps</th>\n",
       "      <th>Accept</th>\n",
       "      <th>Enroll</th>\n",
       "      <th>Top10perc</th>\n",
       "      <th>Top25perc</th>\n",
       "      <th>F.Undergrad</th>\n",
       "      <th>P.Undergrad</th>\n",
       "      <th>Outstate</th>\n",
       "      <th>Room.Board</th>\n",
       "      <th>Books</th>\n",
       "      <th>Personal</th>\n",
       "      <th>PhD</th>\n",
       "      <th>Terminal</th>\n",
       "      <th>S.F.Ratio</th>\n",
       "      <th>perc.alumni</th>\n",
       "      <th>Expend</th>\n",
       "      <th>Grad.Rate</th>\n",
       "    </tr>\n",
       "  </thead>\n",
       "  <tbody>\n",
       "  </tbody>\n",
       "</table>\n",
       "</div>"
      ],
      "text/plain": [
       "Empty DataFrame\n",
       "Columns: [Names, Apps, Accept, Enroll, Top10perc, Top25perc, F.Undergrad, P.Undergrad, Outstate, Room.Board, Books, Personal, PhD, Terminal, S.F.Ratio, perc.alumni, Expend, Grad.Rate]\n",
       "Index: []"
      ]
     },
     "execution_count": 181,
     "metadata": {},
     "output_type": "execute_result"
    }
   ],
   "source": [
    "print('Checking for duplicate data')\n",
    "\n",
    "dups = e1.duplicated()\n",
    "print('Number of duplicate rows = %d' % (dups.sum()))\n",
    "\n",
    "e1[dups]"
   ]
  },
  {
   "cell_type": "code",
   "execution_count": 182,
   "metadata": {},
   "outputs": [
    {
     "name": "stdout",
     "output_type": "stream",
     "text": [
      "Uni-variate analysis\n"
     ]
    },
    {
     "data": {
      "image/png": "[encoded data removed]",
      "text/plain": [
       "<Figure size 864x1296 with 34 Axes>"
      ]
     },
     "metadata": {
      "needs_background": "light"
     },
     "output_type": "display_data"
    }
   ],
   "source": [
    "print('Uni-variate analysis')\n",
    "\n",
    "fig, axes = plt.subplots(nrows=17,ncols=2)\n",
    "\n",
    "fig.set_size_inches(12,18)\n",
    "    \n",
    "a = sns.distplot(e1['Apps'] , ax=axes[0][0])\n",
    "a.set_title(\"Apps Distribution\",fontsize=15)\n",
    "a = sns.boxplot(e1['Apps'] , orient = \"v\" , ax=axes[0][1])\n",
    "a.set_title(\"Apps Distribution\",fontsize=15)\n",
    "\n",
    "a = sns.distplot(e1['Accept'] , ax=axes[1][0])\n",
    "a.set_title(\"Accept Distribution\",fontsize=15)\n",
    "\n",
    "a = sns.boxplot(e1['Accept'] , orient = \"v\" , ax=axes[1][1])\n",
    "a.set_title(\"Accept Distribution\",fontsize=15)\n",
    "\n",
    "a = sns.distplot(e1['Enroll'] , ax=axes[2][0])\n",
    "a.set_title(\"Enroll Distribution\",fontsize=15)\n",
    "\n",
    "a = sns.boxplot(e1['Enroll'] , orient = \"v\" , ax=axes[2][1])\n",
    "a.set_title(\"Enroll Distribution\",fontsize=15)\n",
    "\n",
    "\n",
    "a = sns.distplot(e1['Top10perc'] , ax=axes[3][0])\n",
    "a.set_title(\"Top10perc Distribution\",fontsize=15)\n",
    "\n",
    "a = sns.boxplot(e1['Top10perc'] , orient = \"v\" , ax=axes[3][1])\n",
    "a.set_title(\"Top10perc Distribution\",fontsize=15)\n",
    "\n",
    "a = sns.distplot(e1['Top25perc'] , ax=axes[4][0])\n",
    "a.set_title(\"Top25perc Distribution\",fontsize=15)\n",
    "\n",
    "a = sns.boxplot(e1['Top25perc'] , orient = \"v\" , ax=axes[4][1])\n",
    "a.set_title(\"Top25perc Distribution\",fontsize=15)\n",
    "\n",
    "\n",
    "a = sns.distplot(e1['F.Undergrad'] , ax=axes[5][0])\n",
    "a.set_title(\"F.Undergrad Distribution\",fontsize=15)\n",
    "a = sns.boxplot(e1['F.Undergrad'] , orient = \"v\" , ax=axes[5][1])\n",
    "a.set_title(\"F.Undergrad Distribution\",fontsize=15)\n",
    "\n",
    "\n",
    "a = sns.distplot(e1['P.Undergrad'] , ax=axes[6][0])\n",
    "a.set_title(\"P.Undergrad Distribution\",fontsize=15)\n",
    "a = sns.boxplot(e1['P.Undergrad'] , orient = \"v\" , ax=axes[6][1])\n",
    "a.set_title(\"P.Undergrad Distribution\",fontsize=15)\n",
    "\n",
    "a = sns.distplot(e1['Room.Board'] , ax=axes[7][0])\n",
    "a.set_title(\"Room.Board Distribution\",fontsize=15)\n",
    "a = sns.boxplot(e1['Room.Board'] , orient = \"v\" , ax=axes[7][1])\n",
    "a.set_title(\"Room.Board Distribution\",fontsize=15)\n",
    "\n",
    "a = sns.distplot(e1['Books'] , ax=axes[8][0])\n",
    "a.set_title(\"Books Distribution\",fontsize=15)\n",
    "a = sns.boxplot(e1['Books'] , orient = \"v\" , ax=axes[8][1])\n",
    "a.set_title(\"Books Distribution\",fontsize=15)\n",
    "\n",
    "a = sns.distplot(e1['Personal'] , ax=axes[9][0])\n",
    "a.set_title(\"Personal Distribution\",fontsize=15)\n",
    "a = sns.boxplot(e1['Personal'] , orient = \"v\" , ax=axes[9][1])\n",
    "a.set_title(\"Personal Distribution\",fontsize=15)\n",
    "\n",
    "a = sns.distplot(e1['PhD'] , ax=axes[10][0])\n",
    "a.set_title(\"PhD Distribution\",fontsize=15)\n",
    "a = sns.boxplot(e1['PhD'] , orient = \"v\" , ax=axes[10][1])\n",
    "a.set_title(\"PhD Distribution\",fontsize=15)\n",
    "\n",
    "\n",
    "a = sns.distplot(e1['Terminal'] , ax=axes[11][0])\n",
    "a.set_title(\"Terminal Distribution\",fontsize=15)\n",
    "a = sns.boxplot(e1['Terminal'] , orient = \"v\" , ax=axes[11][1])\n",
    "a.set_title(\"Terminal Distribution\",fontsize=15)\n",
    "\n",
    "a = sns.distplot(e1['S.F.Ratio'] , ax=axes[12][0])\n",
    "a.set_title(\"S.F.Ratio Distribution\",fontsize=15)\n",
    "a = sns.boxplot(e1['S.F.Ratio'] , orient = \"v\" , ax=axes[12][1])\n",
    "a.set_title(\"S.F.Ratio Distribution\",fontsize=15)\n",
    "\n",
    "\n",
    "a = sns.distplot(e1['perc.alumni'] , ax=axes[13][0])\n",
    "a.set_title(\"perc.alumni Distribution\",fontsize=15)\n",
    "a = sns.boxplot(e1['perc.alumni'] , orient = \"v\" , ax=axes[13][1])\n",
    "a.set_title(\"perc.alumni Distribution\",fontsize=15)\n",
    "\n",
    "a = sns.distplot(e1['Expend'] , ax=axes[14][0])\n",
    "a.set_title(\"Expend Distribution\",fontsize=15)\n",
    "a = sns.boxplot(e1['Expend'] , orient = \"v\" , ax=axes[14][1])\n",
    "a.set_title(\"Expend Distribution\",fontsize=15)\n",
    "\n",
    "\n",
    "a = sns.distplot(e1['Grad.Rate'] , ax=axes[15][0])\n",
    "a.set_title(\"Grad.Rate  Distribution\",fontsize=15)\n",
    "a = sns.boxplot(e1['Grad.Rate'] , orient = \"v\" , ax=axes[15][1])\n",
    "a.set_title(\"Grad.Rate  Distribution\",fontsize=15)\n",
    "\n",
    "a = sns.distplot(e1['Outstate'] , ax=axes[16][0])\n",
    "a.set_title(\"Outstate Distribution\",fontsize=15)\n",
    "a = sns.boxplot(e1['Outstate'] , orient = \"v\" , ax=axes[16][1])\n",
    "a.set_title(\"Outstate Distribution\",fontsize=15)\n",
    "\n",
    "plt.show()\n"
   ]
  },
  {
   "cell_type": "code",
   "execution_count": 184,
   "metadata": {},
   "outputs": [
    {
     "name": "stdout",
     "output_type": "stream",
     "text": [
      "Bi- Variate Analysis:\n",
      "Check for correlation among variables\n"
     ]
    },
    {
     "data": {
      "text/html": [
       "<div>\n",
       "<style scoped>\n",
       "    .dataframe tbody tr th:only-of-type {\n",
       "        vertical-align: middle;\n",
       "    }\n",
       "\n",
       "    .dataframe tbody tr th {\n",
       "        vertical-align: top;\n",
       "    }\n",
       "\n",
       "    .dataframe thead th {\n",
       "        text-align: right;\n",
       "    }\n",
       "</style>\n",
       "<table border=\"1\" class=\"dataframe\">\n",
       "  <thead>\n",
       "    <tr style=\"text-align: right;\">\n",
       "      <th></th>\n",
       "      <th>Apps</th>\n",
       "      <th>Accept</th>\n",
       "      <th>Enroll</th>\n",
       "      <th>Top10perc</th>\n",
       "      <th>Top25perc</th>\n",
       "      <th>F.Undergrad</th>\n",
       "      <th>P.Undergrad</th>\n",
       "      <th>Outstate</th>\n",
       "      <th>Room.Board</th>\n",
       "      <th>Books</th>\n",
       "      <th>Personal</th>\n",
       "      <th>PhD</th>\n",
       "      <th>Terminal</th>\n",
       "      <th>S.F.Ratio</th>\n",
       "      <th>perc.alumni</th>\n",
       "      <th>Expend</th>\n",
       "      <th>Grad.Rate</th>\n",
       "    </tr>\n",
       "  </thead>\n",
       "  <tbody>\n",
       "    <tr>\n",
       "      <td>Apps</td>\n",
       "      <td>1.000000</td>\n",
       "      <td>0.943451</td>\n",
       "      <td>0.846822</td>\n",
       "      <td>0.338834</td>\n",
       "      <td>0.351640</td>\n",
       "      <td>0.814491</td>\n",
       "      <td>0.398264</td>\n",
       "      <td>0.050159</td>\n",
       "      <td>0.164939</td>\n",
       "      <td>0.132559</td>\n",
       "      <td>0.178731</td>\n",
       "      <td>0.390697</td>\n",
       "      <td>0.369491</td>\n",
       "      <td>0.095633</td>\n",
       "      <td>-0.090226</td>\n",
       "      <td>0.259592</td>\n",
       "      <td>0.146755</td>\n",
       "    </tr>\n",
       "    <tr>\n",
       "      <td>Accept</td>\n",
       "      <td>0.943451</td>\n",
       "      <td>1.000000</td>\n",
       "      <td>0.911637</td>\n",
       "      <td>0.192447</td>\n",
       "      <td>0.247476</td>\n",
       "      <td>0.874223</td>\n",
       "      <td>0.441271</td>\n",
       "      <td>-0.025755</td>\n",
       "      <td>0.090899</td>\n",
       "      <td>0.113525</td>\n",
       "      <td>0.200989</td>\n",
       "      <td>0.355758</td>\n",
       "      <td>0.337583</td>\n",
       "      <td>0.176229</td>\n",
       "      <td>-0.159990</td>\n",
       "      <td>0.124717</td>\n",
       "      <td>0.067313</td>\n",
       "    </tr>\n",
       "    <tr>\n",
       "      <td>Enroll</td>\n",
       "      <td>0.846822</td>\n",
       "      <td>0.911637</td>\n",
       "      <td>1.000000</td>\n",
       "      <td>0.181294</td>\n",
       "      <td>0.226745</td>\n",
       "      <td>0.964640</td>\n",
       "      <td>0.513069</td>\n",
       "      <td>-0.155477</td>\n",
       "      <td>-0.040232</td>\n",
       "      <td>0.112711</td>\n",
       "      <td>0.280929</td>\n",
       "      <td>0.331469</td>\n",
       "      <td>0.308274</td>\n",
       "      <td>0.237271</td>\n",
       "      <td>-0.180794</td>\n",
       "      <td>0.064169</td>\n",
       "      <td>-0.022341</td>\n",
       "    </tr>\n",
       "    <tr>\n",
       "      <td>Top10perc</td>\n",
       "      <td>0.338834</td>\n",
       "      <td>0.192447</td>\n",
       "      <td>0.181294</td>\n",
       "      <td>1.000000</td>\n",
       "      <td>0.891995</td>\n",
       "      <td>0.141289</td>\n",
       "      <td>-0.105356</td>\n",
       "      <td>0.562331</td>\n",
       "      <td>0.371480</td>\n",
       "      <td>0.118858</td>\n",
       "      <td>-0.093316</td>\n",
       "      <td>0.531828</td>\n",
       "      <td>0.491135</td>\n",
       "      <td>-0.384875</td>\n",
       "      <td>0.455485</td>\n",
       "      <td>0.660913</td>\n",
       "      <td>0.494989</td>\n",
       "    </tr>\n",
       "    <tr>\n",
       "      <td>Top25perc</td>\n",
       "      <td>0.351640</td>\n",
       "      <td>0.247476</td>\n",
       "      <td>0.226745</td>\n",
       "      <td>0.891995</td>\n",
       "      <td>1.000000</td>\n",
       "      <td>0.199445</td>\n",
       "      <td>-0.053577</td>\n",
       "      <td>0.489394</td>\n",
       "      <td>0.331490</td>\n",
       "      <td>0.115527</td>\n",
       "      <td>-0.080810</td>\n",
       "      <td>0.545862</td>\n",
       "      <td>0.524749</td>\n",
       "      <td>-0.294629</td>\n",
       "      <td>0.417864</td>\n",
       "      <td>0.527447</td>\n",
       "      <td>0.477281</td>\n",
       "    </tr>\n",
       "    <tr>\n",
       "      <td>F.Undergrad</td>\n",
       "      <td>0.814491</td>\n",
       "      <td>0.874223</td>\n",
       "      <td>0.964640</td>\n",
       "      <td>0.141289</td>\n",
       "      <td>0.199445</td>\n",
       "      <td>1.000000</td>\n",
       "      <td>0.570512</td>\n",
       "      <td>-0.215742</td>\n",
       "      <td>-0.068890</td>\n",
       "      <td>0.115550</td>\n",
       "      <td>0.317200</td>\n",
       "      <td>0.318337</td>\n",
       "      <td>0.300019</td>\n",
       "      <td>0.279703</td>\n",
       "      <td>-0.229462</td>\n",
       "      <td>0.018652</td>\n",
       "      <td>-0.078773</td>\n",
       "    </tr>\n",
       "    <tr>\n",
       "      <td>P.Undergrad</td>\n",
       "      <td>0.398264</td>\n",
       "      <td>0.441271</td>\n",
       "      <td>0.513069</td>\n",
       "      <td>-0.105356</td>\n",
       "      <td>-0.053577</td>\n",
       "      <td>0.570512</td>\n",
       "      <td>1.000000</td>\n",
       "      <td>-0.253512</td>\n",
       "      <td>-0.061326</td>\n",
       "      <td>0.081200</td>\n",
       "      <td>0.319882</td>\n",
       "      <td>0.149114</td>\n",
       "      <td>0.141904</td>\n",
       "      <td>0.232531</td>\n",
       "      <td>-0.280792</td>\n",
       "      <td>-0.083568</td>\n",
       "      <td>-0.257001</td>\n",
       "    </tr>\n",
       "    <tr>\n",
       "      <td>Outstate</td>\n",
       "      <td>0.050159</td>\n",
       "      <td>-0.025755</td>\n",
       "      <td>-0.155477</td>\n",
       "      <td>0.562331</td>\n",
       "      <td>0.489394</td>\n",
       "      <td>-0.215742</td>\n",
       "      <td>-0.253512</td>\n",
       "      <td>1.000000</td>\n",
       "      <td>0.654256</td>\n",
       "      <td>0.038855</td>\n",
       "      <td>-0.299087</td>\n",
       "      <td>0.382982</td>\n",
       "      <td>0.407983</td>\n",
       "      <td>-0.554821</td>\n",
       "      <td>0.566262</td>\n",
       "      <td>0.672779</td>\n",
       "      <td>0.571290</td>\n",
       "    </tr>\n",
       "    <tr>\n",
       "      <td>Room.Board</td>\n",
       "      <td>0.164939</td>\n",
       "      <td>0.090899</td>\n",
       "      <td>-0.040232</td>\n",
       "      <td>0.371480</td>\n",
       "      <td>0.331490</td>\n",
       "      <td>-0.068890</td>\n",
       "      <td>-0.061326</td>\n",
       "      <td>0.654256</td>\n",
       "      <td>1.000000</td>\n",
       "      <td>0.127963</td>\n",
       "      <td>-0.199428</td>\n",
       "      <td>0.329202</td>\n",
       "      <td>0.374540</td>\n",
       "      <td>-0.362628</td>\n",
       "      <td>0.272363</td>\n",
       "      <td>0.501739</td>\n",
       "      <td>0.424942</td>\n",
       "    </tr>\n",
       "    <tr>\n",
       "      <td>Books</td>\n",
       "      <td>0.132559</td>\n",
       "      <td>0.113525</td>\n",
       "      <td>0.112711</td>\n",
       "      <td>0.118858</td>\n",
       "      <td>0.115527</td>\n",
       "      <td>0.115550</td>\n",
       "      <td>0.081200</td>\n",
       "      <td>0.038855</td>\n",
       "      <td>0.127963</td>\n",
       "      <td>1.000000</td>\n",
       "      <td>0.179295</td>\n",
       "      <td>0.026906</td>\n",
       "      <td>0.099955</td>\n",
       "      <td>-0.031929</td>\n",
       "      <td>-0.040208</td>\n",
       "      <td>0.112409</td>\n",
       "      <td>0.001061</td>\n",
       "    </tr>\n",
       "    <tr>\n",
       "      <td>Personal</td>\n",
       "      <td>0.178731</td>\n",
       "      <td>0.200989</td>\n",
       "      <td>0.280929</td>\n",
       "      <td>-0.093316</td>\n",
       "      <td>-0.080810</td>\n",
       "      <td>0.317200</td>\n",
       "      <td>0.319882</td>\n",
       "      <td>-0.299087</td>\n",
       "      <td>-0.199428</td>\n",
       "      <td>0.179295</td>\n",
       "      <td>1.000000</td>\n",
       "      <td>-0.010936</td>\n",
       "      <td>-0.030613</td>\n",
       "      <td>0.136345</td>\n",
       "      <td>-0.285968</td>\n",
       "      <td>-0.097892</td>\n",
       "      <td>-0.269344</td>\n",
       "    </tr>\n",
       "    <tr>\n",
       "      <td>PhD</td>\n",
       "      <td>0.390697</td>\n",
       "      <td>0.355758</td>\n",
       "      <td>0.331469</td>\n",
       "      <td>0.531828</td>\n",
       "      <td>0.545862</td>\n",
       "      <td>0.318337</td>\n",
       "      <td>0.149114</td>\n",
       "      <td>0.382982</td>\n",
       "      <td>0.329202</td>\n",
       "      <td>0.026906</td>\n",
       "      <td>-0.010936</td>\n",
       "      <td>1.000000</td>\n",
       "      <td>0.849587</td>\n",
       "      <td>-0.130530</td>\n",
       "      <td>0.249009</td>\n",
       "      <td>0.432762</td>\n",
       "      <td>0.305038</td>\n",
       "    </tr>\n",
       "    <tr>\n",
       "      <td>Terminal</td>\n",
       "      <td>0.369491</td>\n",
       "      <td>0.337583</td>\n",
       "      <td>0.308274</td>\n",
       "      <td>0.491135</td>\n",
       "      <td>0.524749</td>\n",
       "      <td>0.300019</td>\n",
       "      <td>0.141904</td>\n",
       "      <td>0.407983</td>\n",
       "      <td>0.374540</td>\n",
       "      <td>0.099955</td>\n",
       "      <td>-0.030613</td>\n",
       "      <td>0.849587</td>\n",
       "      <td>1.000000</td>\n",
       "      <td>-0.160104</td>\n",
       "      <td>0.267130</td>\n",
       "      <td>0.438799</td>\n",
       "      <td>0.289527</td>\n",
       "    </tr>\n",
       "    <tr>\n",
       "      <td>S.F.Ratio</td>\n",
       "      <td>0.095633</td>\n",
       "      <td>0.176229</td>\n",
       "      <td>0.237271</td>\n",
       "      <td>-0.384875</td>\n",
       "      <td>-0.294629</td>\n",
       "      <td>0.279703</td>\n",
       "      <td>0.232531</td>\n",
       "      <td>-0.554821</td>\n",
       "      <td>-0.362628</td>\n",
       "      <td>-0.031929</td>\n",
       "      <td>0.136345</td>\n",
       "      <td>-0.130530</td>\n",
       "      <td>-0.160104</td>\n",
       "      <td>1.000000</td>\n",
       "      <td>-0.402929</td>\n",
       "      <td>-0.583832</td>\n",
       "      <td>-0.306710</td>\n",
       "    </tr>\n",
       "    <tr>\n",
       "      <td>perc.alumni</td>\n",
       "      <td>-0.090226</td>\n",
       "      <td>-0.159990</td>\n",
       "      <td>-0.180794</td>\n",
       "      <td>0.455485</td>\n",
       "      <td>0.417864</td>\n",
       "      <td>-0.229462</td>\n",
       "      <td>-0.280792</td>\n",
       "      <td>0.566262</td>\n",
       "      <td>0.272363</td>\n",
       "      <td>-0.040208</td>\n",
       "      <td>-0.285968</td>\n",
       "      <td>0.249009</td>\n",
       "      <td>0.267130</td>\n",
       "      <td>-0.402929</td>\n",
       "      <td>1.000000</td>\n",
       "      <td>0.417712</td>\n",
       "      <td>0.490898</td>\n",
       "    </tr>\n",
       "    <tr>\n",
       "      <td>Expend</td>\n",
       "      <td>0.259592</td>\n",
       "      <td>0.124717</td>\n",
       "      <td>0.064169</td>\n",
       "      <td>0.660913</td>\n",
       "      <td>0.527447</td>\n",
       "      <td>0.018652</td>\n",
       "      <td>-0.083568</td>\n",
       "      <td>0.672779</td>\n",
       "      <td>0.501739</td>\n",
       "      <td>0.112409</td>\n",
       "      <td>-0.097892</td>\n",
       "      <td>0.432762</td>\n",
       "      <td>0.438799</td>\n",
       "      <td>-0.583832</td>\n",
       "      <td>0.417712</td>\n",
       "      <td>1.000000</td>\n",
       "      <td>0.390343</td>\n",
       "    </tr>\n",
       "    <tr>\n",
       "      <td>Grad.Rate</td>\n",
       "      <td>0.146755</td>\n",
       "      <td>0.067313</td>\n",
       "      <td>-0.022341</td>\n",
       "      <td>0.494989</td>\n",
       "      <td>0.477281</td>\n",
       "      <td>-0.078773</td>\n",
       "      <td>-0.257001</td>\n",
       "      <td>0.571290</td>\n",
       "      <td>0.424942</td>\n",
       "      <td>0.001061</td>\n",
       "      <td>-0.269344</td>\n",
       "      <td>0.305038</td>\n",
       "      <td>0.289527</td>\n",
       "      <td>-0.306710</td>\n",
       "      <td>0.490898</td>\n",
       "      <td>0.390343</td>\n",
       "      <td>1.000000</td>\n",
       "    </tr>\n",
       "  </tbody>\n",
       "</table>\n",
       "</div>"
      ],
      "text/plain": [
       "                 Apps    Accept    Enroll  Top10perc  Top25perc  F.Undergrad  \\\n",
       "Apps         1.000000  0.943451  0.846822   0.338834   0.351640     0.814491   \n",
       "Accept       0.943451  1.000000  0.911637   0.192447   0.247476     0.874223   \n",
       "Enroll       0.846822  0.911637  1.000000   0.181294   0.226745     0.964640   \n",
       "Top10perc    0.338834  0.192447  0.181294   1.000000   0.891995     0.141289   \n",
       "Top25perc    0.351640  0.247476  0.226745   0.891995   1.000000     0.199445   \n",
       "F.Undergrad  0.814491  0.874223  0.964640   0.141289   0.199445     1.000000   \n",
       "P.Undergrad  0.398264  0.441271  0.513069  -0.105356  -0.053577     0.570512   \n",
       "Outstate     0.050159 -0.025755 -0.155477   0.562331   0.489394    -0.215742   \n",
       "Room.Board   0.164939  0.090899 -0.040232   0.371480   0.331490    -0.068890   \n",
       "Books        0.132559  0.113525  0.112711   0.118858   0.115527     0.115550   \n",
       "Personal     0.178731  0.200989  0.280929  -0.093316  -0.080810     0.317200   \n",
       "PhD          0.390697  0.355758  0.331469   0.531828   0.545862     0.318337   \n",
       "Terminal     0.369491  0.337583  0.308274   0.491135   0.524749     0.300019   \n",
       "S.F.Ratio    0.095633  0.176229  0.237271  -0.384875  -0.294629     0.279703   \n",
       "perc.alumni -0.090226 -0.159990 -0.180794   0.455485   0.417864    -0.229462   \n",
       "Expend       0.259592  0.124717  0.064169   0.660913   0.527447     0.018652   \n",
       "Grad.Rate    0.146755  0.067313 -0.022341   0.494989   0.477281    -0.078773   \n",
       "\n",
       "             P.Undergrad  Outstate  Room.Board     Books  Personal       PhD  \\\n",
       "Apps            0.398264  0.050159    0.164939  0.132559  0.178731  0.390697   \n",
       "Accept          0.441271 -0.025755    0.090899  0.113525  0.200989  0.355758   \n",
       "Enroll          0.513069 -0.155477   -0.040232  0.112711  0.280929  0.331469   \n",
       "Top10perc      -0.105356  0.562331    0.371480  0.118858 -0.093316  0.531828   \n",
       "Top25perc      -0.053577  0.489394    0.331490  0.115527 -0.080810  0.545862   \n",
       "F.Undergrad     0.570512 -0.215742   -0.068890  0.115550  0.317200  0.318337   \n",
       "P.Undergrad     1.000000 -0.253512   -0.061326  0.081200  0.319882  0.149114   \n",
       "Outstate       -0.253512  1.000000    0.654256  0.038855 -0.299087  0.382982   \n",
       "Room.Board     -0.061326  0.654256    1.000000  0.127963 -0.199428  0.329202   \n",
       "Books           0.081200  0.038855    0.127963  1.000000  0.179295  0.026906   \n",
       "Personal        0.319882 -0.299087   -0.199428  0.179295  1.000000 -0.010936   \n",
       "PhD             0.149114  0.382982    0.329202  0.026906 -0.010936  1.000000   \n",
       "Terminal        0.141904  0.407983    0.374540  0.099955 -0.030613  0.849587   \n",
       "S.F.Ratio       0.232531 -0.554821   -0.362628 -0.031929  0.136345 -0.130530   \n",
       "perc.alumni    -0.280792  0.566262    0.272363 -0.040208 -0.285968  0.249009   \n",
       "Expend         -0.083568  0.672779    0.501739  0.112409 -0.097892  0.432762   \n",
       "Grad.Rate      -0.257001  0.571290    0.424942  0.001061 -0.269344  0.305038   \n",
       "\n",
       "             Terminal  S.F.Ratio  perc.alumni    Expend  Grad.Rate  \n",
       "Apps         0.369491   0.095633    -0.090226  0.259592   0.146755  \n",
       "Accept       0.337583   0.176229    -0.159990  0.124717   0.067313  \n",
       "Enroll       0.308274   0.237271    -0.180794  0.064169  -0.022341  \n",
       "Top10perc    0.491135  -0.384875     0.455485  0.660913   0.494989  \n",
       "Top25perc    0.524749  -0.294629     0.417864  0.527447   0.477281  \n",
       "F.Undergrad  0.300019   0.279703    -0.229462  0.018652  -0.078773  \n",
       "P.Undergrad  0.141904   0.232531    -0.280792 -0.083568  -0.257001  \n",
       "Outstate     0.407983  -0.554821     0.566262  0.672779   0.571290  \n",
       "Room.Board   0.374540  -0.362628     0.272363  0.501739   0.424942  \n",
       "Books        0.099955  -0.031929    -0.040208  0.112409   0.001061  \n",
       "Personal    -0.030613   0.136345    -0.285968 -0.097892  -0.269344  \n",
       "PhD          0.849587  -0.130530     0.249009  0.432762   0.305038  \n",
       "Terminal     1.000000  -0.160104     0.267130  0.438799   0.289527  \n",
       "S.F.Ratio   -0.160104   1.000000    -0.402929 -0.583832  -0.306710  \n",
       "perc.alumni  0.267130  -0.402929     1.000000  0.417712   0.490898  \n",
       "Expend       0.438799  -0.583832     0.417712  1.000000   0.390343  \n",
       "Grad.Rate    0.289527  -0.306710     0.490898  0.390343   1.000000  "
      ]
     },
     "execution_count": 184,
     "metadata": {},
     "output_type": "execute_result"
    }
   ],
   "source": [
    "print('Bi- Variate Analysis:')\n",
    "print('Check for correlation among variables')\n",
    "e1.corr(method='pearson')"
   ]
  },
  {
   "cell_type": "code",
   "execution_count": 185,
   "metadata": {},
   "outputs": [
    {
     "name": "stdout",
     "output_type": "stream",
     "text": [
      " plot the correlation coefficients as a heatmap\n"
     ]
    },
    {
     "data": {
      "text/plain": [
       "<matplotlib.axes._subplots.AxesSubplot at 0x245f64f2048>"
      ]
     },
     "execution_count": 185,
     "metadata": {},
     "output_type": "execute_result"
    },
    {
     "data": {
      "image/png": "[encoded data removed]",
      "text/plain": [
       "<Figure size 1440x1080 with 2 Axes>"
      ]
     },
     "metadata": {
      "needs_background": "light"
     },
     "output_type": "display_data"
    }
   ],
   "source": [
    "print(' plot the correlation coefficients as a heatmap')\n",
    "plt.subplots(figsize=(20,15))\n",
    "sns.heatmap(e1.corr(), annot=True)  "
   ]
  },
  {
   "cell_type": "code",
   "execution_count": 186,
   "metadata": {},
   "outputs": [
    {
     "name": "stdout",
     "output_type": "stream",
     "text": [
      "interference from above data\n",
      "In the given dataset There are 777 rows and 18 columns.There is Neither Missing value nor any duplicate rows.\n",
      "From the univariate it is quite clear Apps,Accept,Enroll,Top10perc ,top25perc ,P.undergrad, room.board etc Most of variables\n",
      "are not normally distributed. Number of variables like Apps,Accept,books,personal,outstate,Extend,S.F ratio,perk.alumnni,\n",
      "grad.rate having outliers .\n",
      "We have drawn the Covariance and Correlation Matrix for the given dataset .\n",
      "Covariance indicates the direction of the linear relationship between variables.\n",
      "while Correlation on the other hand measures both the strength and direction of the linear relationship between two variables.\n",
      "Correlation is a function of the covariance.\n"
     ]
    }
   ],
   "source": [
    "print('interference from above data')\n",
    "\n",
    "print('In the given dataset There are 777 rows and 18 columns.There is Neither Missing value nor any duplicate rows.') \n",
    "print('From the univariate it is quite clear Apps,Accept,Enroll,Top10perc ,top25perc ,P.undergrad, room.board etc Most of variables')\n",
    "print('are not normally distributed. Number of variables like Apps,Accept,books,personal,outstate,Extend,S.F ratio,perk.alumnni,')\n",
    "print('grad.rate having outliers .')\n",
    "print('We have drawn the Covariance and Correlation Matrix for the given dataset .')\n",
    "print('Covariance indicates the direction of the linear relationship between variables.') \n",
    "print('while Correlation on the other hand measures both the strength and direction of the linear relationship between two variables.')\n",
    "print('Correlation is a function of the covariance.')"
   ]
  },
  {
   "cell_type": "code",
   "execution_count": 187,
   "metadata": {},
   "outputs": [
    {
     "name": "stdout",
     "output_type": "stream",
     "text": [
      "2.2) Scale the variables and write the inference for using the type of scaling function for this case study\n",
      "All variables must be on same scale, hence we can omit scaling.\n"
     ]
    }
   ],
   "source": [
    "print('2.2) Scale the variables and write the inference for using the type of scaling function for this case study')\n",
    "print('All variables must be on same scale, hence we can omit scaling.')"
   ]
  },
  {
   "cell_type": "code",
   "execution_count": 106,
   "metadata": {},
   "outputs": [
    {
     "name": "stdout",
     "output_type": "stream",
     "text": [
      "Important Note:- Point to be noted : Name would be the target variable. Should be removed when PCA is done\n",
      "Since Names column has unique values , so will remove it from the dataset.More over there is no point in adding ID for PCA\n",
      " We named new datset e2 after droping the name column\n"
     ]
    }
   ],
   "source": [
    "print('Important Note:- Point to be noted : Name would be the target variable. Should be removed when PCA is done')\n",
    "print('Since Names column has unique values , so will remove it from the dataset.More over there is no point in adding ID for PCA')\n",
    "print(' We named new datset e2 after droping the name column')\n",
    "e2=e1.drop([\"Names\"],axis=1)"
   ]
  },
  {
   "cell_type": "code",
   "execution_count": 146,
   "metadata": {},
   "outputs": [
    {
     "name": "stdout",
     "output_type": "stream",
     "text": [
      "Check the top 5 records of the dataset\n"
     ]
    },
    {
     "data": {
      "text/html": [
       "<div>\n",
       "<style scoped>\n",
       "    .dataframe tbody tr th:only-of-type {\n",
       "        vertical-align: middle;\n",
       "    }\n",
       "\n",
       "    .dataframe tbody tr th {\n",
       "        vertical-align: top;\n",
       "    }\n",
       "\n",
       "    .dataframe thead th {\n",
       "        text-align: right;\n",
       "    }\n",
       "</style>\n",
       "<table border=\"1\" class=\"dataframe\">\n",
       "  <thead>\n",
       "    <tr style=\"text-align: right;\">\n",
       "      <th></th>\n",
       "      <th>Apps</th>\n",
       "      <th>Accept</th>\n",
       "      <th>Enroll</th>\n",
       "      <th>Top10perc</th>\n",
       "      <th>Top25perc</th>\n",
       "      <th>F.Undergrad</th>\n",
       "      <th>P.Undergrad</th>\n",
       "      <th>Outstate</th>\n",
       "      <th>Room.Board</th>\n",
       "      <th>Books</th>\n",
       "      <th>Personal</th>\n",
       "      <th>PhD</th>\n",
       "      <th>Terminal</th>\n",
       "      <th>S.F.Ratio</th>\n",
       "      <th>perc.alumni</th>\n",
       "      <th>Expend</th>\n",
       "      <th>Grad.Rate</th>\n",
       "    </tr>\n",
       "  </thead>\n",
       "  <tbody>\n",
       "    <tr>\n",
       "      <td>0</td>\n",
       "      <td>1660.0</td>\n",
       "      <td>1232.0</td>\n",
       "      <td>721.0</td>\n",
       "      <td>23.0</td>\n",
       "      <td>52</td>\n",
       "      <td>2885.0</td>\n",
       "      <td>537.0</td>\n",
       "      <td>7440.0</td>\n",
       "      <td>3300.0</td>\n",
       "      <td>450.0</td>\n",
       "      <td>2200.0</td>\n",
       "      <td>70.0</td>\n",
       "      <td>78.0</td>\n",
       "      <td>18.1</td>\n",
       "      <td>12.0</td>\n",
       "      <td>7041.0</td>\n",
       "      <td>60.0</td>\n",
       "    </tr>\n",
       "    <tr>\n",
       "      <td>1</td>\n",
       "      <td>2186.0</td>\n",
       "      <td>1924.0</td>\n",
       "      <td>512.0</td>\n",
       "      <td>16.0</td>\n",
       "      <td>29</td>\n",
       "      <td>2683.0</td>\n",
       "      <td>1227.0</td>\n",
       "      <td>12280.0</td>\n",
       "      <td>6450.0</td>\n",
       "      <td>750.0</td>\n",
       "      <td>1500.0</td>\n",
       "      <td>29.0</td>\n",
       "      <td>39.5</td>\n",
       "      <td>12.2</td>\n",
       "      <td>16.0</td>\n",
       "      <td>10527.0</td>\n",
       "      <td>56.0</td>\n",
       "    </tr>\n",
       "    <tr>\n",
       "      <td>2</td>\n",
       "      <td>1428.0</td>\n",
       "      <td>1097.0</td>\n",
       "      <td>336.0</td>\n",
       "      <td>22.0</td>\n",
       "      <td>50</td>\n",
       "      <td>1036.0</td>\n",
       "      <td>99.0</td>\n",
       "      <td>11250.0</td>\n",
       "      <td>3750.0</td>\n",
       "      <td>400.0</td>\n",
       "      <td>1165.0</td>\n",
       "      <td>53.0</td>\n",
       "      <td>66.0</td>\n",
       "      <td>12.9</td>\n",
       "      <td>30.0</td>\n",
       "      <td>8735.0</td>\n",
       "      <td>54.0</td>\n",
       "    </tr>\n",
       "    <tr>\n",
       "      <td>3</td>\n",
       "      <td>417.0</td>\n",
       "      <td>349.0</td>\n",
       "      <td>137.0</td>\n",
       "      <td>60.0</td>\n",
       "      <td>89</td>\n",
       "      <td>510.0</td>\n",
       "      <td>63.0</td>\n",
       "      <td>12960.0</td>\n",
       "      <td>5450.0</td>\n",
       "      <td>450.0</td>\n",
       "      <td>875.0</td>\n",
       "      <td>92.0</td>\n",
       "      <td>97.0</td>\n",
       "      <td>7.7</td>\n",
       "      <td>37.0</td>\n",
       "      <td>16948.5</td>\n",
       "      <td>59.0</td>\n",
       "    </tr>\n",
       "    <tr>\n",
       "      <td>4</td>\n",
       "      <td>193.0</td>\n",
       "      <td>146.0</td>\n",
       "      <td>55.0</td>\n",
       "      <td>16.0</td>\n",
       "      <td>44</td>\n",
       "      <td>249.0</td>\n",
       "      <td>869.0</td>\n",
       "      <td>7560.0</td>\n",
       "      <td>4120.0</td>\n",
       "      <td>795.0</td>\n",
       "      <td>1500.0</td>\n",
       "      <td>76.0</td>\n",
       "      <td>72.0</td>\n",
       "      <td>11.9</td>\n",
       "      <td>2.0</td>\n",
       "      <td>10922.0</td>\n",
       "      <td>15.5</td>\n",
       "    </tr>\n",
       "  </tbody>\n",
       "</table>\n",
       "</div>"
      ],
      "text/plain": [
       "     Apps  Accept  Enroll  Top10perc  Top25perc  F.Undergrad  P.Undergrad  \\\n",
       "0  1660.0  1232.0   721.0       23.0         52       2885.0        537.0   \n",
       "1  2186.0  1924.0   512.0       16.0         29       2683.0       1227.0   \n",
       "2  1428.0  1097.0   336.0       22.0         50       1036.0         99.0   \n",
       "3   417.0   349.0   137.0       60.0         89        510.0         63.0   \n",
       "4   193.0   146.0    55.0       16.0         44        249.0        869.0   \n",
       "\n",
       "   Outstate  Room.Board  Books  Personal   PhD  Terminal  S.F.Ratio  \\\n",
       "0    7440.0      3300.0  450.0    2200.0  70.0      78.0       18.1   \n",
       "1   12280.0      6450.0  750.0    1500.0  29.0      39.5       12.2   \n",
       "2   11250.0      3750.0  400.0    1165.0  53.0      66.0       12.9   \n",
       "3   12960.0      5450.0  450.0     875.0  92.0      97.0        7.7   \n",
       "4    7560.0      4120.0  795.0    1500.0  76.0      72.0       11.9   \n",
       "\n",
       "   perc.alumni   Expend  Grad.Rate  \n",
       "0         12.0   7041.0       60.0  \n",
       "1         16.0  10527.0       56.0  \n",
       "2         30.0   8735.0       54.0  \n",
       "3         37.0  16948.5       59.0  \n",
       "4          2.0  10922.0       15.5  "
      ]
     },
     "execution_count": 146,
     "metadata": {},
     "output_type": "execute_result"
    }
   ],
   "source": [
    "print('Check the top 5 records of the dataset')\n",
    "e2.head()"
   ]
  },
  {
   "cell_type": "code",
   "execution_count": 147,
   "metadata": {},
   "outputs": [
    {
     "name": "stdout",
     "output_type": "stream",
     "text": [
      "Scaling all the variables using zscore\n"
     ]
    },
    {
     "data": {
      "text/html": [
       "<div>\n",
       "<style scoped>\n",
       "    .dataframe tbody tr th:only-of-type {\n",
       "        vertical-align: middle;\n",
       "    }\n",
       "\n",
       "    .dataframe tbody tr th {\n",
       "        vertical-align: top;\n",
       "    }\n",
       "\n",
       "    .dataframe thead th {\n",
       "        text-align: right;\n",
       "    }\n",
       "</style>\n",
       "<table border=\"1\" class=\"dataframe\">\n",
       "  <thead>\n",
       "    <tr style=\"text-align: right;\">\n",
       "      <th></th>\n",
       "      <th>Apps</th>\n",
       "      <th>Accept</th>\n",
       "      <th>Enroll</th>\n",
       "      <th>Top10perc</th>\n",
       "      <th>Top25perc</th>\n",
       "      <th>F.Undergrad</th>\n",
       "      <th>P.Undergrad</th>\n",
       "      <th>Outstate</th>\n",
       "      <th>Room.Board</th>\n",
       "      <th>Books</th>\n",
       "      <th>Personal</th>\n",
       "      <th>PhD</th>\n",
       "      <th>Terminal</th>\n",
       "      <th>S.F.Ratio</th>\n",
       "      <th>perc.alumni</th>\n",
       "      <th>Expend</th>\n",
       "      <th>Grad.Rate</th>\n",
       "    </tr>\n",
       "  </thead>\n",
       "  <tbody>\n",
       "    <tr>\n",
       "      <td>0</td>\n",
       "      <td>-0.376493</td>\n",
       "      <td>-0.337830</td>\n",
       "      <td>0.106380</td>\n",
       "      <td>-0.246780</td>\n",
       "      <td>-0.191827</td>\n",
       "      <td>-0.018769</td>\n",
       "      <td>-0.166083</td>\n",
       "      <td>-0.746480</td>\n",
       "      <td>-0.968324</td>\n",
       "      <td>-0.776567</td>\n",
       "      <td>1.438500</td>\n",
       "      <td>-0.174045</td>\n",
       "      <td>-0.123239</td>\n",
       "      <td>1.070602</td>\n",
       "      <td>-0.870466</td>\n",
       "      <td>-0.630916</td>\n",
       "      <td>-0.319205</td>\n",
       "    </tr>\n",
       "    <tr>\n",
       "      <td>1</td>\n",
       "      <td>-0.159195</td>\n",
       "      <td>0.116744</td>\n",
       "      <td>-0.260441</td>\n",
       "      <td>-0.696290</td>\n",
       "      <td>-1.353911</td>\n",
       "      <td>-0.093626</td>\n",
       "      <td>0.797856</td>\n",
       "      <td>0.457762</td>\n",
       "      <td>1.921680</td>\n",
       "      <td>1.828605</td>\n",
       "      <td>0.289289</td>\n",
       "      <td>-2.745731</td>\n",
       "      <td>-2.785068</td>\n",
       "      <td>-0.489511</td>\n",
       "      <td>-0.545726</td>\n",
       "      <td>0.396097</td>\n",
       "      <td>-0.552693</td>\n",
       "    </tr>\n",
       "    <tr>\n",
       "      <td>2</td>\n",
       "      <td>-0.472336</td>\n",
       "      <td>-0.426511</td>\n",
       "      <td>-0.569343</td>\n",
       "      <td>-0.310996</td>\n",
       "      <td>-0.292878</td>\n",
       "      <td>-0.703966</td>\n",
       "      <td>-0.777974</td>\n",
       "      <td>0.201488</td>\n",
       "      <td>-0.555466</td>\n",
       "      <td>-1.210762</td>\n",
       "      <td>-0.260691</td>\n",
       "      <td>-1.240354</td>\n",
       "      <td>-0.952900</td>\n",
       "      <td>-0.304413</td>\n",
       "      <td>0.590864</td>\n",
       "      <td>-0.131845</td>\n",
       "      <td>-0.669437</td>\n",
       "    </tr>\n",
       "    <tr>\n",
       "      <td>3</td>\n",
       "      <td>-0.889994</td>\n",
       "      <td>-0.917871</td>\n",
       "      <td>-0.918613</td>\n",
       "      <td>2.129202</td>\n",
       "      <td>1.677612</td>\n",
       "      <td>-0.898889</td>\n",
       "      <td>-0.828267</td>\n",
       "      <td>0.626954</td>\n",
       "      <td>1.004218</td>\n",
       "      <td>-0.776567</td>\n",
       "      <td>-0.736792</td>\n",
       "      <td>1.205884</td>\n",
       "      <td>1.190391</td>\n",
       "      <td>-1.679429</td>\n",
       "      <td>1.159159</td>\n",
       "      <td>2.287940</td>\n",
       "      <td>-0.377577</td>\n",
       "    </tr>\n",
       "    <tr>\n",
       "      <td>4</td>\n",
       "      <td>-0.982532</td>\n",
       "      <td>-1.051221</td>\n",
       "      <td>-1.062533</td>\n",
       "      <td>-0.696290</td>\n",
       "      <td>-0.596031</td>\n",
       "      <td>-0.995610</td>\n",
       "      <td>0.297726</td>\n",
       "      <td>-0.716623</td>\n",
       "      <td>-0.216006</td>\n",
       "      <td>2.219381</td>\n",
       "      <td>0.289289</td>\n",
       "      <td>0.202299</td>\n",
       "      <td>-0.538069</td>\n",
       "      <td>-0.568839</td>\n",
       "      <td>-1.682316</td>\n",
       "      <td>0.512468</td>\n",
       "      <td>-2.916759</td>\n",
       "    </tr>\n",
       "  </tbody>\n",
       "</table>\n",
       "</div>"
      ],
      "text/plain": [
       "       Apps    Accept    Enroll  Top10perc  Top25perc  F.Undergrad  \\\n",
       "0 -0.376493 -0.337830  0.106380  -0.246780  -0.191827    -0.018769   \n",
       "1 -0.159195  0.116744 -0.260441  -0.696290  -1.353911    -0.093626   \n",
       "2 -0.472336 -0.426511 -0.569343  -0.310996  -0.292878    -0.703966   \n",
       "3 -0.889994 -0.917871 -0.918613   2.129202   1.677612    -0.898889   \n",
       "4 -0.982532 -1.051221 -1.062533  -0.696290  -0.596031    -0.995610   \n",
       "\n",
       "   P.Undergrad  Outstate  Room.Board     Books  Personal       PhD  Terminal  \\\n",
       "0    -0.166083 -0.746480   -0.968324 -0.776567  1.438500 -0.174045 -0.123239   \n",
       "1     0.797856  0.457762    1.921680  1.828605  0.289289 -2.745731 -2.785068   \n",
       "2    -0.777974  0.201488   -0.555466 -1.210762 -0.260691 -1.240354 -0.952900   \n",
       "3    -0.828267  0.626954    1.004218 -0.776567 -0.736792  1.205884  1.190391   \n",
       "4     0.297726 -0.716623   -0.216006  2.219381  0.289289  0.202299 -0.538069   \n",
       "\n",
       "   S.F.Ratio  perc.alumni    Expend  Grad.Rate  \n",
       "0   1.070602    -0.870466 -0.630916  -0.319205  \n",
       "1  -0.489511    -0.545726  0.396097  -0.552693  \n",
       "2  -0.304413     0.590864 -0.131845  -0.669437  \n",
       "3  -1.679429     1.159159  2.287940  -0.377577  \n",
       "4  -0.568839    -1.682316  0.512468  -2.916759  "
      ]
     },
     "execution_count": 147,
     "metadata": {},
     "output_type": "execute_result"
    }
   ],
   "source": [
    "print('Scaling all the variables using zscore') \n",
    "from scipy.stats import zscore\n",
    "e2_new=e2.apply(zscore)\n",
    "e2_new.head()\n"
   ]
  },
  {
   "cell_type": "code",
   "execution_count": 36,
   "metadata": {},
   "outputs": [
    {
     "name": "stdout",
     "output_type": "stream",
     "text": [
      "For the putting all the variables on the same scale We have used zscore method , z score Method Deduct the mean\n",
      " and divide with standard deviation\n"
     ]
    }
   ],
   "source": [
    "print ('For the putting all the variables on the same scale We have used zscore method , z score Method Deduct the mean')\n",
    "print(' and divide with standard deviation')"
   ]
  },
  {
   "cell_type": "code",
   "execution_count": 148,
   "metadata": {},
   "outputs": [
    {
     "name": "stdout",
     "output_type": "stream",
     "text": [
      "2.3) Comment on the comparison between covariance and the correlation matrix after scaling.\n"
     ]
    }
   ],
   "source": [
    "print('2.3) Comment on the comparison between covariance and the correlation matrix after scaling.')"
   ]
  },
  {
   "cell_type": "code",
   "execution_count": 149,
   "metadata": {},
   "outputs": [
    {
     "name": "stdout",
     "output_type": "stream",
     "text": [
      "Covariance Matrix After Scaling\n"
     ]
    }
   ],
   "source": [
    "print('Covariance Matrix After Scaling') "
   ]
  },
  {
   "cell_type": "code",
   "execution_count": 37,
   "metadata": {},
   "outputs": [
    {
     "name": "stdout",
     "output_type": "stream",
     "text": [
      "Covariance Matrix \n",
      "%s [[ 1.00128866  0.94466636  0.84791332  0.33927032  0.35209304  0.81554018\n",
      "   0.3987775   0.05022367  0.16515151  0.13272942  0.17896117  0.39120081\n",
      "   0.36996762  0.09575627 -0.09034216  0.2599265   0.14694372]\n",
      " [ 0.94466636  1.00128866  0.91281145  0.19269493  0.24779465  0.87534985\n",
      "   0.44183938 -0.02578774  0.09101577  0.11367165  0.20124767  0.35621633\n",
      "   0.3380184   0.17645611 -0.16019604  0.12487773  0.06739929]\n",
      " [ 0.84791332  0.91281145  1.00128866  0.18152715  0.2270373   0.96588274\n",
      "   0.51372977 -0.1556777  -0.04028353  0.11285614  0.28129148  0.33189629\n",
      "   0.30867133  0.23757707 -0.18102711  0.06425192 -0.02236983]\n",
      " [ 0.33927032  0.19269493  0.18152715  1.00128866  0.89314445  0.1414708\n",
      "  -0.10549205  0.5630552   0.37195909  0.1190116  -0.09343665  0.53251337\n",
      "   0.49176793 -0.38537048  0.45607223  0.6617651   0.49562711]\n",
      " [ 0.35209304  0.24779465  0.2270373   0.89314445  1.00128866  0.19970167\n",
      "  -0.05364569  0.49002449  0.33191707  0.115676   -0.08091441  0.54656564\n",
      "   0.52542506 -0.29500852  0.41840277  0.52812713  0.47789622]\n",
      " [ 0.81554018  0.87534985  0.96588274  0.1414708   0.19970167  1.00128866\n",
      "   0.57124738 -0.21602002 -0.06897917  0.11569867  0.31760831  0.3187472\n",
      "   0.30040557  0.28006379 -0.22975792  0.01867565 -0.07887464]\n",
      " [ 0.3987775   0.44183938  0.51372977 -0.10549205 -0.05364569  0.57124738\n",
      "   1.00128866 -0.25383901 -0.06140453  0.08130416  0.32029384  0.14930637\n",
      "   0.14208644  0.23283016 -0.28115421 -0.08367612 -0.25733218]\n",
      " [ 0.05022367 -0.02578774 -0.1556777   0.5630552   0.49002449 -0.21602002\n",
      "  -0.25383901  1.00128866  0.65509951  0.03890494 -0.29947232  0.38347594\n",
      "   0.40850895 -0.55553625  0.56699214  0.6736456   0.57202613]\n",
      " [ 0.16515151  0.09101577 -0.04028353  0.37195909  0.33191707 -0.06897917\n",
      "  -0.06140453  0.65509951  1.00128866  0.12812787 -0.19968518  0.32962651\n",
      "   0.3750222  -0.36309504  0.27271444  0.50238599  0.42548915]\n",
      " [ 0.13272942  0.11367165  0.11285614  0.1190116   0.115676    0.11569867\n",
      "   0.08130416  0.03890494  0.12812787  1.00128866  0.17952581  0.0269404\n",
      "   0.10008351 -0.03197042 -0.04025955  0.11255393  0.00106226]\n",
      " [ 0.17896117  0.20124767  0.28129148 -0.09343665 -0.08091441  0.31760831\n",
      "   0.32029384 -0.29947232 -0.19968518  0.17952581  1.00128866 -0.01094989\n",
      "  -0.03065256  0.13652054 -0.2863366  -0.09801804 -0.26969106]\n",
      " [ 0.39120081  0.35621633  0.33189629  0.53251337  0.54656564  0.3187472\n",
      "   0.14930637  0.38347594  0.32962651  0.0269404  -0.01094989  1.00128866\n",
      "   0.85068186 -0.13069832  0.24932955  0.43331936  0.30543094]\n",
      " [ 0.36996762  0.3380184   0.30867133  0.49176793  0.52542506  0.30040557\n",
      "   0.14208644  0.40850895  0.3750222   0.10008351 -0.03065256  0.85068186\n",
      "   1.00128866 -0.16031027  0.26747453  0.43936469  0.28990033]\n",
      " [ 0.09575627  0.17645611  0.23757707 -0.38537048 -0.29500852  0.28006379\n",
      "   0.23283016 -0.55553625 -0.36309504 -0.03197042  0.13652054 -0.13069832\n",
      "  -0.16031027  1.00128866 -0.4034484  -0.5845844  -0.30710565]\n",
      " [-0.09034216 -0.16019604 -0.18102711  0.45607223  0.41840277 -0.22975792\n",
      "  -0.28115421  0.56699214  0.27271444 -0.04025955 -0.2863366   0.24932955\n",
      "   0.26747453 -0.4034484   1.00128866  0.41825001  0.49153016]\n",
      " [ 0.2599265   0.12487773  0.06425192  0.6617651   0.52812713  0.01867565\n",
      "  -0.08367612  0.6736456   0.50238599  0.11255393 -0.09801804  0.43331936\n",
      "   0.43936469 -0.5845844   0.41825001  1.00128866  0.39084571]\n",
      " [ 0.14694372  0.06739929 -0.02236983  0.49562711  0.47789622 -0.07887464\n",
      "  -0.25733218  0.57202613  0.42548915  0.00106226 -0.26969106  0.30543094\n",
      "   0.28990033 -0.30710565  0.49153016  0.39084571  1.00128866]]\n"
     ]
    }
   ],
   "source": [
    "cov_matrix = np.cov(e2_new.T)\n",
    "print('Covariance Matrix \\n%s', cov_matrix)"
   ]
  },
  {
   "cell_type": "code",
   "execution_count": 150,
   "metadata": {},
   "outputs": [
    {
     "name": "stdout",
     "output_type": "stream",
     "text": [
      "correlation Matrix after scaling\n"
     ]
    },
    {
     "data": {
      "text/html": [
       "<div>\n",
       "<style scoped>\n",
       "    .dataframe tbody tr th:only-of-type {\n",
       "        vertical-align: middle;\n",
       "    }\n",
       "\n",
       "    .dataframe tbody tr th {\n",
       "        vertical-align: top;\n",
       "    }\n",
       "\n",
       "    .dataframe thead th {\n",
       "        text-align: right;\n",
       "    }\n",
       "</style>\n",
       "<table border=\"1\" class=\"dataframe\">\n",
       "  <thead>\n",
       "    <tr style=\"text-align: right;\">\n",
       "      <th></th>\n",
       "      <th>Apps</th>\n",
       "      <th>Accept</th>\n",
       "      <th>Enroll</th>\n",
       "      <th>Top10perc</th>\n",
       "      <th>Top25perc</th>\n",
       "      <th>F.Undergrad</th>\n",
       "      <th>P.Undergrad</th>\n",
       "      <th>Outstate</th>\n",
       "      <th>Room.Board</th>\n",
       "      <th>Books</th>\n",
       "      <th>Personal</th>\n",
       "      <th>PhD</th>\n",
       "      <th>Terminal</th>\n",
       "      <th>S.F.Ratio</th>\n",
       "      <th>perc.alumni</th>\n",
       "      <th>Expend</th>\n",
       "      <th>Grad.Rate</th>\n",
       "    </tr>\n",
       "  </thead>\n",
       "  <tbody>\n",
       "    <tr>\n",
       "      <td>Apps</td>\n",
       "      <td>1.000000</td>\n",
       "      <td>0.955307</td>\n",
       "      <td>0.896883</td>\n",
       "      <td>0.321342</td>\n",
       "      <td>0.364491</td>\n",
       "      <td>0.861002</td>\n",
       "      <td>0.519823</td>\n",
       "      <td>0.065337</td>\n",
       "      <td>0.187475</td>\n",
       "      <td>0.236138</td>\n",
       "      <td>0.229948</td>\n",
       "      <td>0.463924</td>\n",
       "      <td>0.434478</td>\n",
       "      <td>0.126411</td>\n",
       "      <td>-0.101158</td>\n",
       "      <td>0.242935</td>\n",
       "      <td>0.150803</td>\n",
       "    </tr>\n",
       "    <tr>\n",
       "      <td>Accept</td>\n",
       "      <td>0.955307</td>\n",
       "      <td>1.000000</td>\n",
       "      <td>0.935277</td>\n",
       "      <td>0.223298</td>\n",
       "      <td>0.273681</td>\n",
       "      <td>0.897034</td>\n",
       "      <td>0.572691</td>\n",
       "      <td>-0.005002</td>\n",
       "      <td>0.119586</td>\n",
       "      <td>0.208705</td>\n",
       "      <td>0.256346</td>\n",
       "      <td>0.427341</td>\n",
       "      <td>0.403409</td>\n",
       "      <td>0.188506</td>\n",
       "      <td>-0.165516</td>\n",
       "      <td>0.161808</td>\n",
       "      <td>0.078982</td>\n",
       "    </tr>\n",
       "    <tr>\n",
       "      <td>Enroll</td>\n",
       "      <td>0.896883</td>\n",
       "      <td>0.935277</td>\n",
       "      <td>1.000000</td>\n",
       "      <td>0.171756</td>\n",
       "      <td>0.230434</td>\n",
       "      <td>0.967302</td>\n",
       "      <td>0.641595</td>\n",
       "      <td>-0.155655</td>\n",
       "      <td>-0.023846</td>\n",
       "      <td>0.202057</td>\n",
       "      <td>0.339348</td>\n",
       "      <td>0.381540</td>\n",
       "      <td>0.354379</td>\n",
       "      <td>0.274269</td>\n",
       "      <td>-0.222723</td>\n",
       "      <td>0.054221</td>\n",
       "      <td>-0.023251</td>\n",
       "    </tr>\n",
       "    <tr>\n",
       "      <td>Top10perc</td>\n",
       "      <td>0.321342</td>\n",
       "      <td>0.223298</td>\n",
       "      <td>0.171756</td>\n",
       "      <td>1.000000</td>\n",
       "      <td>0.913875</td>\n",
       "      <td>0.111215</td>\n",
       "      <td>-0.180009</td>\n",
       "      <td>0.562160</td>\n",
       "      <td>0.357366</td>\n",
       "      <td>0.153452</td>\n",
       "      <td>-0.116730</td>\n",
       "      <td>0.544048</td>\n",
       "      <td>0.506748</td>\n",
       "      <td>-0.387926</td>\n",
       "      <td>0.455797</td>\n",
       "      <td>0.657039</td>\n",
       "      <td>0.493670</td>\n",
       "    </tr>\n",
       "    <tr>\n",
       "      <td>Top25perc</td>\n",
       "      <td>0.364491</td>\n",
       "      <td>0.273681</td>\n",
       "      <td>0.230434</td>\n",
       "      <td>0.913875</td>\n",
       "      <td>1.000000</td>\n",
       "      <td>0.181196</td>\n",
       "      <td>-0.099295</td>\n",
       "      <td>0.489569</td>\n",
       "      <td>0.330987</td>\n",
       "      <td>0.169761</td>\n",
       "      <td>-0.086810</td>\n",
       "      <td>0.551461</td>\n",
       "      <td>0.527654</td>\n",
       "      <td>-0.297233</td>\n",
       "      <td>0.416832</td>\n",
       "      <td>0.572905</td>\n",
       "      <td>0.478985</td>\n",
       "    </tr>\n",
       "    <tr>\n",
       "      <td>F.Undergrad</td>\n",
       "      <td>0.861002</td>\n",
       "      <td>0.897034</td>\n",
       "      <td>0.967302</td>\n",
       "      <td>0.111215</td>\n",
       "      <td>0.181196</td>\n",
       "      <td>1.000000</td>\n",
       "      <td>0.696130</td>\n",
       "      <td>-0.226166</td>\n",
       "      <td>-0.054476</td>\n",
       "      <td>0.207879</td>\n",
       "      <td>0.359783</td>\n",
       "      <td>0.361564</td>\n",
       "      <td>0.335054</td>\n",
       "      <td>0.324504</td>\n",
       "      <td>-0.285457</td>\n",
       "      <td>0.000371</td>\n",
       "      <td>-0.082239</td>\n",
       "    </tr>\n",
       "    <tr>\n",
       "      <td>P.Undergrad</td>\n",
       "      <td>0.519823</td>\n",
       "      <td>0.572691</td>\n",
       "      <td>0.641595</td>\n",
       "      <td>-0.180009</td>\n",
       "      <td>-0.099295</td>\n",
       "      <td>0.696130</td>\n",
       "      <td>1.000000</td>\n",
       "      <td>-0.354216</td>\n",
       "      <td>-0.067638</td>\n",
       "      <td>0.122529</td>\n",
       "      <td>0.344053</td>\n",
       "      <td>0.127663</td>\n",
       "      <td>0.122152</td>\n",
       "      <td>0.370607</td>\n",
       "      <td>-0.419334</td>\n",
       "      <td>-0.201929</td>\n",
       "      <td>-0.265158</td>\n",
       "    </tr>\n",
       "    <tr>\n",
       "      <td>Outstate</td>\n",
       "      <td>0.065337</td>\n",
       "      <td>-0.005002</td>\n",
       "      <td>-0.155655</td>\n",
       "      <td>0.562160</td>\n",
       "      <td>0.489569</td>\n",
       "      <td>-0.226166</td>\n",
       "      <td>-0.354216</td>\n",
       "      <td>1.000000</td>\n",
       "      <td>0.655489</td>\n",
       "      <td>0.005110</td>\n",
       "      <td>-0.325609</td>\n",
       "      <td>0.391321</td>\n",
       "      <td>0.412579</td>\n",
       "      <td>-0.573683</td>\n",
       "      <td>0.565736</td>\n",
       "      <td>0.775328</td>\n",
       "      <td>0.572458</td>\n",
       "    </tr>\n",
       "    <tr>\n",
       "      <td>Room.Board</td>\n",
       "      <td>0.187475</td>\n",
       "      <td>0.119586</td>\n",
       "      <td>-0.023846</td>\n",
       "      <td>0.357366</td>\n",
       "      <td>0.330987</td>\n",
       "      <td>-0.054476</td>\n",
       "      <td>-0.067638</td>\n",
       "      <td>0.655489</td>\n",
       "      <td>1.000000</td>\n",
       "      <td>0.108924</td>\n",
       "      <td>-0.219554</td>\n",
       "      <td>0.341469</td>\n",
       "      <td>0.379270</td>\n",
       "      <td>-0.376430</td>\n",
       "      <td>0.272393</td>\n",
       "      <td>0.580622</td>\n",
       "      <td>0.425790</td>\n",
       "    </tr>\n",
       "    <tr>\n",
       "      <td>Books</td>\n",
       "      <td>0.236138</td>\n",
       "      <td>0.208705</td>\n",
       "      <td>0.202057</td>\n",
       "      <td>0.153452</td>\n",
       "      <td>0.169761</td>\n",
       "      <td>0.207879</td>\n",
       "      <td>0.122529</td>\n",
       "      <td>0.005110</td>\n",
       "      <td>0.108924</td>\n",
       "      <td>1.000000</td>\n",
       "      <td>0.239863</td>\n",
       "      <td>0.136390</td>\n",
       "      <td>0.159318</td>\n",
       "      <td>-0.008536</td>\n",
       "      <td>-0.042832</td>\n",
       "      <td>0.149983</td>\n",
       "      <td>-0.008051</td>\n",
       "    </tr>\n",
       "    <tr>\n",
       "      <td>Personal</td>\n",
       "      <td>0.229948</td>\n",
       "      <td>0.256346</td>\n",
       "      <td>0.339348</td>\n",
       "      <td>-0.116730</td>\n",
       "      <td>-0.086810</td>\n",
       "      <td>0.359783</td>\n",
       "      <td>0.344053</td>\n",
       "      <td>-0.325609</td>\n",
       "      <td>-0.219554</td>\n",
       "      <td>0.239863</td>\n",
       "      <td>1.000000</td>\n",
       "      <td>-0.011684</td>\n",
       "      <td>-0.031971</td>\n",
       "      <td>0.173913</td>\n",
       "      <td>-0.305753</td>\n",
       "      <td>-0.163271</td>\n",
       "      <td>-0.290894</td>\n",
       "    </tr>\n",
       "    <tr>\n",
       "      <td>PhD</td>\n",
       "      <td>0.463924</td>\n",
       "      <td>0.427341</td>\n",
       "      <td>0.381540</td>\n",
       "      <td>0.544048</td>\n",
       "      <td>0.551461</td>\n",
       "      <td>0.361564</td>\n",
       "      <td>0.127663</td>\n",
       "      <td>0.391321</td>\n",
       "      <td>0.341469</td>\n",
       "      <td>0.136390</td>\n",
       "      <td>-0.011684</td>\n",
       "      <td>1.000000</td>\n",
       "      <td>0.862928</td>\n",
       "      <td>-0.129390</td>\n",
       "      <td>0.248877</td>\n",
       "      <td>0.510529</td>\n",
       "      <td>0.310019</td>\n",
       "    </tr>\n",
       "    <tr>\n",
       "      <td>Terminal</td>\n",
       "      <td>0.434478</td>\n",
       "      <td>0.403409</td>\n",
       "      <td>0.354379</td>\n",
       "      <td>0.506748</td>\n",
       "      <td>0.527654</td>\n",
       "      <td>0.335054</td>\n",
       "      <td>0.122152</td>\n",
       "      <td>0.412579</td>\n",
       "      <td>0.379270</td>\n",
       "      <td>0.159318</td>\n",
       "      <td>-0.031971</td>\n",
       "      <td>0.862928</td>\n",
       "      <td>1.000000</td>\n",
       "      <td>-0.150993</td>\n",
       "      <td>0.266033</td>\n",
       "      <td>0.524068</td>\n",
       "      <td>0.292803</td>\n",
       "    </tr>\n",
       "    <tr>\n",
       "      <td>S.F.Ratio</td>\n",
       "      <td>0.126411</td>\n",
       "      <td>0.188506</td>\n",
       "      <td>0.274269</td>\n",
       "      <td>-0.387926</td>\n",
       "      <td>-0.297233</td>\n",
       "      <td>0.324504</td>\n",
       "      <td>0.370607</td>\n",
       "      <td>-0.573683</td>\n",
       "      <td>-0.376430</td>\n",
       "      <td>-0.008536</td>\n",
       "      <td>0.173913</td>\n",
       "      <td>-0.129390</td>\n",
       "      <td>-0.150993</td>\n",
       "      <td>1.000000</td>\n",
       "      <td>-0.412101</td>\n",
       "      <td>-0.654376</td>\n",
       "      <td>-0.308525</td>\n",
       "    </tr>\n",
       "    <tr>\n",
       "      <td>perc.alumni</td>\n",
       "      <td>-0.101158</td>\n",
       "      <td>-0.165516</td>\n",
       "      <td>-0.222723</td>\n",
       "      <td>0.455797</td>\n",
       "      <td>0.416832</td>\n",
       "      <td>-0.285457</td>\n",
       "      <td>-0.419334</td>\n",
       "      <td>0.565736</td>\n",
       "      <td>0.272393</td>\n",
       "      <td>-0.042832</td>\n",
       "      <td>-0.305753</td>\n",
       "      <td>0.248877</td>\n",
       "      <td>0.266033</td>\n",
       "      <td>-0.412101</td>\n",
       "      <td>1.000000</td>\n",
       "      <td>0.462922</td>\n",
       "      <td>0.491408</td>\n",
       "    </tr>\n",
       "    <tr>\n",
       "      <td>Expend</td>\n",
       "      <td>0.242935</td>\n",
       "      <td>0.161808</td>\n",
       "      <td>0.054221</td>\n",
       "      <td>0.657039</td>\n",
       "      <td>0.572905</td>\n",
       "      <td>0.000371</td>\n",
       "      <td>-0.201929</td>\n",
       "      <td>0.775328</td>\n",
       "      <td>0.580622</td>\n",
       "      <td>0.149983</td>\n",
       "      <td>-0.163271</td>\n",
       "      <td>0.510529</td>\n",
       "      <td>0.524068</td>\n",
       "      <td>-0.654376</td>\n",
       "      <td>0.462922</td>\n",
       "      <td>1.000000</td>\n",
       "      <td>0.415291</td>\n",
       "    </tr>\n",
       "    <tr>\n",
       "      <td>Grad.Rate</td>\n",
       "      <td>0.150803</td>\n",
       "      <td>0.078982</td>\n",
       "      <td>-0.023251</td>\n",
       "      <td>0.493670</td>\n",
       "      <td>0.478985</td>\n",
       "      <td>-0.082239</td>\n",
       "      <td>-0.265158</td>\n",
       "      <td>0.572458</td>\n",
       "      <td>0.425790</td>\n",
       "      <td>-0.008051</td>\n",
       "      <td>-0.290894</td>\n",
       "      <td>0.310019</td>\n",
       "      <td>0.292803</td>\n",
       "      <td>-0.308525</td>\n",
       "      <td>0.491408</td>\n",
       "      <td>0.415291</td>\n",
       "      <td>1.000000</td>\n",
       "    </tr>\n",
       "  </tbody>\n",
       "</table>\n",
       "</div>"
      ],
      "text/plain": [
       "                 Apps    Accept    Enroll  Top10perc  Top25perc  F.Undergrad  \\\n",
       "Apps         1.000000  0.955307  0.896883   0.321342   0.364491     0.861002   \n",
       "Accept       0.955307  1.000000  0.935277   0.223298   0.273681     0.897034   \n",
       "Enroll       0.896883  0.935277  1.000000   0.171756   0.230434     0.967302   \n",
       "Top10perc    0.321342  0.223298  0.171756   1.000000   0.913875     0.111215   \n",
       "Top25perc    0.364491  0.273681  0.230434   0.913875   1.000000     0.181196   \n",
       "F.Undergrad  0.861002  0.897034  0.967302   0.111215   0.181196     1.000000   \n",
       "P.Undergrad  0.519823  0.572691  0.641595  -0.180009  -0.099295     0.696130   \n",
       "Outstate     0.065337 -0.005002 -0.155655   0.562160   0.489569    -0.226166   \n",
       "Room.Board   0.187475  0.119586 -0.023846   0.357366   0.330987    -0.054476   \n",
       "Books        0.236138  0.208705  0.202057   0.153452   0.169761     0.207879   \n",
       "Personal     0.229948  0.256346  0.339348  -0.116730  -0.086810     0.359783   \n",
       "PhD          0.463924  0.427341  0.381540   0.544048   0.551461     0.361564   \n",
       "Terminal     0.434478  0.403409  0.354379   0.506748   0.527654     0.335054   \n",
       "S.F.Ratio    0.126411  0.188506  0.274269  -0.387926  -0.297233     0.324504   \n",
       "perc.alumni -0.101158 -0.165516 -0.222723   0.455797   0.416832    -0.285457   \n",
       "Expend       0.242935  0.161808  0.054221   0.657039   0.572905     0.000371   \n",
       "Grad.Rate    0.150803  0.078982 -0.023251   0.493670   0.478985    -0.082239   \n",
       "\n",
       "             P.Undergrad  Outstate  Room.Board     Books  Personal       PhD  \\\n",
       "Apps            0.519823  0.065337    0.187475  0.236138  0.229948  0.463924   \n",
       "Accept          0.572691 -0.005002    0.119586  0.208705  0.256346  0.427341   \n",
       "Enroll          0.641595 -0.155655   -0.023846  0.202057  0.339348  0.381540   \n",
       "Top10perc      -0.180009  0.562160    0.357366  0.153452 -0.116730  0.544048   \n",
       "Top25perc      -0.099295  0.489569    0.330987  0.169761 -0.086810  0.551461   \n",
       "F.Undergrad     0.696130 -0.226166   -0.054476  0.207879  0.359783  0.361564   \n",
       "P.Undergrad     1.000000 -0.354216   -0.067638  0.122529  0.344053  0.127663   \n",
       "Outstate       -0.354216  1.000000    0.655489  0.005110 -0.325609  0.391321   \n",
       "Room.Board     -0.067638  0.655489    1.000000  0.108924 -0.219554  0.341469   \n",
       "Books           0.122529  0.005110    0.108924  1.000000  0.239863  0.136390   \n",
       "Personal        0.344053 -0.325609   -0.219554  0.239863  1.000000 -0.011684   \n",
       "PhD             0.127663  0.391321    0.341469  0.136390 -0.011684  1.000000   \n",
       "Terminal        0.122152  0.412579    0.379270  0.159318 -0.031971  0.862928   \n",
       "S.F.Ratio       0.370607 -0.573683   -0.376430 -0.008536  0.173913 -0.129390   \n",
       "perc.alumni    -0.419334  0.565736    0.272393 -0.042832 -0.305753  0.248877   \n",
       "Expend         -0.201929  0.775328    0.580622  0.149983 -0.163271  0.510529   \n",
       "Grad.Rate      -0.265158  0.572458    0.425790 -0.008051 -0.290894  0.310019   \n",
       "\n",
       "             Terminal  S.F.Ratio  perc.alumni    Expend  Grad.Rate  \n",
       "Apps         0.434478   0.126411    -0.101158  0.242935   0.150803  \n",
       "Accept       0.403409   0.188506    -0.165516  0.161808   0.078982  \n",
       "Enroll       0.354379   0.274269    -0.222723  0.054221  -0.023251  \n",
       "Top10perc    0.506748  -0.387926     0.455797  0.657039   0.493670  \n",
       "Top25perc    0.527654  -0.297233     0.416832  0.572905   0.478985  \n",
       "F.Undergrad  0.335054   0.324504    -0.285457  0.000371  -0.082239  \n",
       "P.Undergrad  0.122152   0.370607    -0.419334 -0.201929  -0.265158  \n",
       "Outstate     0.412579  -0.573683     0.565736  0.775328   0.572458  \n",
       "Room.Board   0.379270  -0.376430     0.272393  0.580622   0.425790  \n",
       "Books        0.159318  -0.008536    -0.042832  0.149983  -0.008051  \n",
       "Personal    -0.031971   0.173913    -0.305753 -0.163271  -0.290894  \n",
       "PhD          0.862928  -0.129390     0.248877  0.510529   0.310019  \n",
       "Terminal     1.000000  -0.150993     0.266033  0.524068   0.292803  \n",
       "S.F.Ratio   -0.150993   1.000000    -0.412101 -0.654376  -0.308525  \n",
       "perc.alumni  0.266033  -0.412101     1.000000  0.462922   0.491408  \n",
       "Expend       0.524068  -0.654376     0.462922  1.000000   0.415291  \n",
       "Grad.Rate    0.292803  -0.308525     0.491408  0.415291   1.000000  "
      ]
     },
     "execution_count": 150,
     "metadata": {},
     "output_type": "execute_result"
    }
   ],
   "source": [
    "print('correlation Matrix after scaling')\n",
    "e2_new.corr(method='pearson')"
   ]
  },
  {
   "cell_type": "code",
   "execution_count": 38,
   "metadata": {},
   "outputs": [
    {
     "name": "stdout",
     "output_type": "stream",
     "text": [
      " After scaling Covariance and Corelation Matrix show the same result\n",
      "After Scaling Covarinace Matrix become Corealtion Matrix\n"
     ]
    }
   ],
   "source": [
    "print(' After scaling Covariance and Corelation Matrix show the same result')\n",
    "print('After Scaling Covarinace Matrix become Corealtion Matrix')"
   ]
  },
  {
   "cell_type": "code",
   "execution_count": 151,
   "metadata": {},
   "outputs": [
    {
     "name": "stdout",
     "output_type": "stream",
     "text": [
      "2.4) Check the dataset for outliers before and after scaling. Draw your inferences from this exercise.\n"
     ]
    }
   ],
   "source": [
    "print('2.4) Check the dataset for outliers before and after scaling. Draw your inferences from this exercise.')"
   ]
  },
  {
   "cell_type": "code",
   "execution_count": 145,
   "metadata": {},
   "outputs": [
    {
     "name": "stdout",
     "output_type": "stream",
     "text": [
      "Outliers before scaling the data without handling the outliers\n"
     ]
    },
    {
     "data": {
      "text/plain": [
       "<matplotlib.axes._subplots.AxesSubplot at 0x245f6289cc8>"
      ]
     },
     "execution_count": 145,
     "metadata": {},
     "output_type": "execute_result"
    },
    {
     "data": {
      "image/png": "[encoded data removed]",
      "text/plain": [
       "<Figure size 1440x216 with 1 Axes>"
      ]
     },
     "metadata": {
      "needs_background": "light"
     },
     "output_type": "display_data"
    }
   ],
   "source": [
    "print('Outliers before scaling the data without handling the outliers') \n",
    "e2.boxplot(figsize=(20,3))"
   ]
  },
  {
   "cell_type": "code",
   "execution_count": 144,
   "metadata": {},
   "outputs": [
    {
     "name": "stdout",
     "output_type": "stream",
     "text": [
      "Outliers after scaling the data without handling the outliers\n"
     ]
    },
    {
     "data": {
      "text/plain": [
       "<matplotlib.axes._subplots.AxesSubplot at 0x245f11e3bc8>"
      ]
     },
     "execution_count": 144,
     "metadata": {},
     "output_type": "execute_result"
    },
    {
     "data": {
      "image/png": "[encoded data removed]",
      "text/plain": [
       "<Figure size 1440x216 with 1 Axes>"
      ]
     },
     "metadata": {
      "needs_background": "light"
     },
     "output_type": "display_data"
    }
   ],
   "source": [
    "print('Outliers after scaling the data without handling the outliers')\n",
    "e2_new.boxplot(figsize=(20,3))"
   ]
  },
  {
   "cell_type": "code",
   "execution_count": 162,
   "metadata": {},
   "outputs": [
    {
     "name": "stdout",
     "output_type": "stream",
     "text": [
      "If we compare the above graph for outliers before and after scaling these is difference between box plot represenation e.g\n",
      "variable like Phd,Terminal,S.F ratio etc  which show the scale is not same for all the variables.After scaling There are still\n",
      "outliers exist in  variables like  S.Fratio,Perc.alumni,Top10perc etc\n"
     ]
    }
   ],
   "source": [
    "print('If we compare the above graph for outliers before and after scaling these is difference between box plot represenation e.g') \n",
    "print('variable like Phd,Terminal,S.F ratio etc  which show the scale is not same for all the variables.After scaling There are still')\n",
    "print('outliers exist in  variables like  S.Fratio,Perc.alumni,Top10perc etc')"
   ]
  },
  {
   "cell_type": "code",
   "execution_count": 141,
   "metadata": {},
   "outputs": [
    {
     "name": "stdout",
     "output_type": "stream",
     "text": [
      "2.5) Build the covariance matrix, eigenvalues and eigenvector.\n",
      "Note:- Before preparing the covariance matrix We have handled the outliers as well as standardize the dataset.\n",
      "In order to answer the 2.5 question We firsly dealt with outliers and done the scaling \n"
     ]
    }
   ],
   "source": [
    "print('2.5) Build the covariance matrix, eigenvalues and eigenvector.')\n",
    "print('Note:- Before preparing the covariance matrix We have handled the outliers as well as standardize the dataset.')\n",
    "print('In order to answer the 2.5 question We firsly dealt with outliers and done the scaling ')"
   ]
  },
  {
   "cell_type": "code",
   "execution_count": 139,
   "metadata": {},
   "outputs": [
    {
     "name": "stdout",
     "output_type": "stream",
     "text": [
      "Handling the outliers in the dataset\n",
      "Defining the outlier functions\n"
     ]
    }
   ],
   "source": [
    "print('Handling the outliers in the dataset')\n",
    "print('Defining the outlier functions') \n",
    "def remove_outlier(col):\n",
    "    sorted(col)\n",
    "    Q1,Q3=np.percentile(col,[25,75])\n",
    "    IQR=Q3-Q1\n",
    "    lower_range= Q1-(1.5 * IQR)\n",
    "    upper_range= Q3+(1.5 * IQR)\n",
    "    return lower_range, upper_range"
   ]
  },
  {
   "cell_type": "code",
   "execution_count": 138,
   "metadata": {},
   "outputs": [
    {
     "name": "stdout",
     "output_type": "stream",
     "text": [
      "Handling the outliers in the orginal data\n"
     ]
    }
   ],
   "source": [
    "print('Handling the outliers in the orginal data')\n",
    "lapps,uapps=remove_outlier(e2['Apps'])\n",
    "e2['Apps']=np.where(e2['Apps']>uapps,uapps,e2['Apps'])\n",
    "e2['Apps']=np.where(e2['Apps']<lapps,lapps,e2['Apps'])\n",
    "\n",
    "lraccept,uraccept=remove_outlier(e2['Accept'])\n",
    "e2['Accept']=np.where(e2['Accept']>uraccept,uraccept,e2['Accept'])\n",
    "e2['Accept']=np.where(e2['Accept']<lraccept,lraccept,e2['Accept'])\n",
    "\n",
    "\n",
    "lEnroll,uEnroll=remove_outlier(e2['Enroll'])\n",
    "e2['Enroll']=np.where(e2['Enroll']>uEnroll,uEnroll,e2['Enroll'])\n",
    "e2['Enroll']=np.where(e2['Enroll']<lEnroll,lEnroll,e2['Enroll'])\n",
    "\n",
    "lTop10perc,uTop10perc=remove_outlier(e2['Top10perc'])\n",
    "e2['Top10perc']=np.where(e2['Top10perc']>uTop10perc,uTop10perc,e2['Top10perc'])\n",
    "e2['Top10perc']=np.where(e2['Top10perc']<lTop10perc,lTop10perc,e2['Top10perc'])\n",
    "\n",
    "\n",
    "lF,uF=remove_outlier(e2['F.Undergrad'])\n",
    "e2['F.Undergrad']=np.where(e2['F.Undergrad']>uF,uF,e2['F.Undergrad'])\n",
    "e2['F.Undergrad']=np.where(e2['F.Undergrad']<lF,lF,e2['F.Undergrad'])\n",
    "\n",
    "\n",
    "lP,uP=remove_outlier(e2['P.Undergrad'])\n",
    "e2['P.Undergrad']=np.where(e2['P.Undergrad']>uP,uP,e2['P.Undergrad'])\n",
    "e2['P.Undergrad']=np.where(e2['P.Undergrad']<lP,lP,e2['P.Undergrad'])\n",
    "\n",
    "lOutstate,uOutstate=remove_outlier(e2['Outstate'])\n",
    "e2['Outstate']=np.where(e2['Outstate']>uOutstate,uOutstate,e2['Outstate'])\n",
    "e2['Outstate']=np.where(e2['Outstate']<lOutstate,lOutstate,e2['Outstate'])\n",
    "\n",
    "\n",
    "lRoom,uRoom=remove_outlier(e2['Room.Board'])\n",
    "e2['Room.Board']=np.where(e2['Room.Board']>uRoom,uRoom,e2['Room.Board'])\n",
    "e2['Room.Board']=np.where(e2['Room.Board']<lRoom,lRoom,e2['Room.Board'])\n",
    "\n",
    "lBooks,uBooks=remove_outlier(e2['Books'])\n",
    "e2['Books']=np.where(e2['Books']>uBooks,uBooks,e2['Books'])\n",
    "e2['Books']=np.where(e2['Books']<lBooks,lBooks,e2['Books'])\n",
    "\n",
    "\n",
    "lPersonal,uPersonal=remove_outlier(e2['Personal'])\n",
    "e2['Personal']=np.where(e2['Personal']>uPersonal,uPersonal,e2['Personal'])\n",
    "e2['Personal']=np.where(e2['Personal']<lPersonal,lPersonal,e2['Personal'])\n",
    "\n",
    "lPhD,uPhD=remove_outlier(e2['PhD'])\n",
    "e2['PhD']=np.where(e2['PhD']>uPhD,uPhD,e2['PhD'])\n",
    "e2['PhD']=np.where(e2['PhD']<lPhD,lPhD,e2['PhD'])\n",
    "\n",
    "\n",
    "lTerminal,uTerminal=remove_outlier(e2['Terminal'])\n",
    "e2['Terminal']=np.where(e2['Terminal']>uTerminal,uTerminal,e2['Terminal'])\n",
    "e2['Terminal']=np.where(e2['Terminal']<lTerminal,lTerminal,e2['Terminal'])\n",
    "\n",
    "\n",
    "lSF,uSF=remove_outlier(e2['S.F.Ratio'])\n",
    "e2['S.F.Ratio']=np.where(e2['S.F.Ratio']>uSF,uSF,e2['S.F.Ratio'])\n",
    "e2['S.F.Ratio']=np.where(e2['S.F.Ratio']<lSF,lSF,e2['S.F.Ratio'])\n",
    "\n",
    "lprec,uprec=remove_outlier(e2['perc.alumni'])\n",
    "e2['perc.alumni']=np.where(e2['perc.alumni']>uprec,uprec,e2['perc.alumni'])\n",
    "e2['perc.alumni']=np.where(e2['perc.alumni']<lprec,lprec,e2['perc.alumni'])\n",
    "\n",
    "lExpend,uExpend=remove_outlier(e2['Expend'])\n",
    "e2['Expend']=np.where(e2['Expend']>uExpend,uExpend,e2['Expend'])\n",
    "e2['Expend']=np.where(e2['Expend']<lExpend,lExpend,e2['Expend'])\n",
    "\n",
    "lGrad,uGrad=remove_outlier(e2['Grad.Rate'])\n",
    "e2['Grad.Rate']=np.where(e2['Grad.Rate']>uGrad,uGrad,e2['Grad.Rate'])\n",
    "e2['Grad.Rate']=np.where(e2['Grad.Rate']<lGrad,lGrad,e2['Grad.Rate'])\n",
    "\n",
    "\n"
   ]
  },
  {
   "cell_type": "code",
   "execution_count": 118,
   "metadata": {},
   "outputs": [
    {
     "name": "stdout",
     "output_type": "stream",
     "text": [
      "box plot after handliing the outliers\n"
     ]
    },
    {
     "data": {
      "text/plain": [
       "<matplotlib.axes._subplots.AxesSubplot at 0x245f1af35c8>"
      ]
     },
     "execution_count": 118,
     "metadata": {},
     "output_type": "execute_result"
    },
    {
     "data": {
      "image/png": "[encoded data removed]",
      "text/plain": [
       "<Figure size 1440x216 with 1 Axes>"
      ]
     },
     "metadata": {
      "needs_background": "light"
     },
     "output_type": "display_data"
    }
   ],
   "source": [
    "print('box plot after handliing the outliers')\n",
    "e2.boxplot(figsize=(20,3))"
   ]
  },
  {
   "cell_type": "code",
   "execution_count": 117,
   "metadata": {},
   "outputs": [
    {
     "name": "stdout",
     "output_type": "stream",
     "text": [
      "Scaling the dataset after handling the outliers\n"
     ]
    },
    {
     "data": {
      "text/html": [
       "<div>\n",
       "<style scoped>\n",
       "    .dataframe tbody tr th:only-of-type {\n",
       "        vertical-align: middle;\n",
       "    }\n",
       "\n",
       "    .dataframe tbody tr th {\n",
       "        vertical-align: top;\n",
       "    }\n",
       "\n",
       "    .dataframe thead th {\n",
       "        text-align: right;\n",
       "    }\n",
       "</style>\n",
       "<table border=\"1\" class=\"dataframe\">\n",
       "  <thead>\n",
       "    <tr style=\"text-align: right;\">\n",
       "      <th></th>\n",
       "      <th>Apps</th>\n",
       "      <th>Accept</th>\n",
       "      <th>Enroll</th>\n",
       "      <th>Top10perc</th>\n",
       "      <th>Top25perc</th>\n",
       "      <th>F.Undergrad</th>\n",
       "      <th>P.Undergrad</th>\n",
       "      <th>Outstate</th>\n",
       "      <th>Room.Board</th>\n",
       "      <th>Books</th>\n",
       "      <th>Personal</th>\n",
       "      <th>PhD</th>\n",
       "      <th>Terminal</th>\n",
       "      <th>S.F.Ratio</th>\n",
       "      <th>perc.alumni</th>\n",
       "      <th>Expend</th>\n",
       "      <th>Grad.Rate</th>\n",
       "    </tr>\n",
       "  </thead>\n",
       "  <tbody>\n",
       "    <tr>\n",
       "      <td>0</td>\n",
       "      <td>-0.376493</td>\n",
       "      <td>-0.337830</td>\n",
       "      <td>0.106380</td>\n",
       "      <td>-0.246780</td>\n",
       "      <td>-0.191827</td>\n",
       "      <td>-0.018769</td>\n",
       "      <td>-0.166083</td>\n",
       "      <td>-0.746480</td>\n",
       "      <td>-0.968324</td>\n",
       "      <td>-0.776567</td>\n",
       "      <td>1.438500</td>\n",
       "      <td>-0.174045</td>\n",
       "      <td>-0.123239</td>\n",
       "      <td>1.070602</td>\n",
       "      <td>-0.870466</td>\n",
       "      <td>-0.630916</td>\n",
       "      <td>-0.319205</td>\n",
       "    </tr>\n",
       "    <tr>\n",
       "      <td>1</td>\n",
       "      <td>-0.159195</td>\n",
       "      <td>0.116744</td>\n",
       "      <td>-0.260441</td>\n",
       "      <td>-0.696290</td>\n",
       "      <td>-1.353911</td>\n",
       "      <td>-0.093626</td>\n",
       "      <td>0.797856</td>\n",
       "      <td>0.457762</td>\n",
       "      <td>1.921680</td>\n",
       "      <td>1.828605</td>\n",
       "      <td>0.289289</td>\n",
       "      <td>-2.745731</td>\n",
       "      <td>-2.785068</td>\n",
       "      <td>-0.489511</td>\n",
       "      <td>-0.545726</td>\n",
       "      <td>0.396097</td>\n",
       "      <td>-0.552693</td>\n",
       "    </tr>\n",
       "    <tr>\n",
       "      <td>2</td>\n",
       "      <td>-0.472336</td>\n",
       "      <td>-0.426511</td>\n",
       "      <td>-0.569343</td>\n",
       "      <td>-0.310996</td>\n",
       "      <td>-0.292878</td>\n",
       "      <td>-0.703966</td>\n",
       "      <td>-0.777974</td>\n",
       "      <td>0.201488</td>\n",
       "      <td>-0.555466</td>\n",
       "      <td>-1.210762</td>\n",
       "      <td>-0.260691</td>\n",
       "      <td>-1.240354</td>\n",
       "      <td>-0.952900</td>\n",
       "      <td>-0.304413</td>\n",
       "      <td>0.590864</td>\n",
       "      <td>-0.131845</td>\n",
       "      <td>-0.669437</td>\n",
       "    </tr>\n",
       "    <tr>\n",
       "      <td>3</td>\n",
       "      <td>-0.889994</td>\n",
       "      <td>-0.917871</td>\n",
       "      <td>-0.918613</td>\n",
       "      <td>2.129202</td>\n",
       "      <td>1.677612</td>\n",
       "      <td>-0.898889</td>\n",
       "      <td>-0.828267</td>\n",
       "      <td>0.626954</td>\n",
       "      <td>1.004218</td>\n",
       "      <td>-0.776567</td>\n",
       "      <td>-0.736792</td>\n",
       "      <td>1.205884</td>\n",
       "      <td>1.190391</td>\n",
       "      <td>-1.679429</td>\n",
       "      <td>1.159159</td>\n",
       "      <td>2.287940</td>\n",
       "      <td>-0.377577</td>\n",
       "    </tr>\n",
       "    <tr>\n",
       "      <td>4</td>\n",
       "      <td>-0.982532</td>\n",
       "      <td>-1.051221</td>\n",
       "      <td>-1.062533</td>\n",
       "      <td>-0.696290</td>\n",
       "      <td>-0.596031</td>\n",
       "      <td>-0.995610</td>\n",
       "      <td>0.297726</td>\n",
       "      <td>-0.716623</td>\n",
       "      <td>-0.216006</td>\n",
       "      <td>2.219381</td>\n",
       "      <td>0.289289</td>\n",
       "      <td>0.202299</td>\n",
       "      <td>-0.538069</td>\n",
       "      <td>-0.568839</td>\n",
       "      <td>-1.682316</td>\n",
       "      <td>0.512468</td>\n",
       "      <td>-2.916759</td>\n",
       "    </tr>\n",
       "  </tbody>\n",
       "</table>\n",
       "</div>"
      ],
      "text/plain": [
       "       Apps    Accept    Enroll  Top10perc  Top25perc  F.Undergrad  \\\n",
       "0 -0.376493 -0.337830  0.106380  -0.246780  -0.191827    -0.018769   \n",
       "1 -0.159195  0.116744 -0.260441  -0.696290  -1.353911    -0.093626   \n",
       "2 -0.472336 -0.426511 -0.569343  -0.310996  -0.292878    -0.703966   \n",
       "3 -0.889994 -0.917871 -0.918613   2.129202   1.677612    -0.898889   \n",
       "4 -0.982532 -1.051221 -1.062533  -0.696290  -0.596031    -0.995610   \n",
       "\n",
       "   P.Undergrad  Outstate  Room.Board     Books  Personal       PhD  Terminal  \\\n",
       "0    -0.166083 -0.746480   -0.968324 -0.776567  1.438500 -0.174045 -0.123239   \n",
       "1     0.797856  0.457762    1.921680  1.828605  0.289289 -2.745731 -2.785068   \n",
       "2    -0.777974  0.201488   -0.555466 -1.210762 -0.260691 -1.240354 -0.952900   \n",
       "3    -0.828267  0.626954    1.004218 -0.776567 -0.736792  1.205884  1.190391   \n",
       "4     0.297726 -0.716623   -0.216006  2.219381  0.289289  0.202299 -0.538069   \n",
       "\n",
       "   S.F.Ratio  perc.alumni    Expend  Grad.Rate  \n",
       "0   1.070602    -0.870466 -0.630916  -0.319205  \n",
       "1  -0.489511    -0.545726  0.396097  -0.552693  \n",
       "2  -0.304413     0.590864 -0.131845  -0.669437  \n",
       "3  -1.679429     1.159159  2.287940  -0.377577  \n",
       "4  -0.568839    -1.682316  0.512468  -2.916759  "
      ]
     },
     "execution_count": 117,
     "metadata": {},
     "output_type": "execute_result"
    }
   ],
   "source": [
    "print('Scaling the dataset after handling the outliers') \n",
    "from scipy.stats import zscore\n",
    "e2_new=e2.apply(zscore)\n",
    "e2_new.head()"
   ]
  },
  {
   "cell_type": "code",
   "execution_count": 136,
   "metadata": {},
   "outputs": [
    {
     "name": "stdout",
     "output_type": "stream",
     "text": [
      "box plot after handliing the outliers and scaling\n"
     ]
    },
    {
     "data": {
      "text/plain": [
       "<matplotlib.axes._subplots.AxesSubplot at 0x245f13da548>"
      ]
     },
     "execution_count": 136,
     "metadata": {},
     "output_type": "execute_result"
    },
    {
     "data": {
      "image/png": "[encoded data removed]",
      "text/plain": [
       "<Figure size 1440x216 with 1 Axes>"
      ]
     },
     "metadata": {
      "needs_background": "light"
     },
     "output_type": "display_data"
    }
   ],
   "source": [
    "print('box plot after handliing the outliers and scaling') \n",
    "e2_new.boxplot(figsize=(20,3))"
   ]
  },
  {
   "cell_type": "code",
   "execution_count": 116,
   "metadata": {},
   "outputs": [
    {
     "name": "stdout",
     "output_type": "stream",
     "text": [
      "Note:- Before preparing the covariance matrix We have handled the outliers as well as standardize the dataset.\n",
      "Covariance Matrix \n",
      "%s [[ 1.00128866e+00  9.56537704e-01  8.98039052e-01  3.21756324e-01\n",
      "   3.64960691e-01  8.62111140e-01  5.20492952e-01  6.54209711e-02\n",
      "   1.87717056e-01  2.36441941e-01  2.30243993e-01  4.64521757e-01\n",
      "   4.35037784e-01  1.26573895e-01 -1.01288006e-01  2.43248206e-01\n",
      "   1.50997775e-01]\n",
      " [ 9.56537704e-01  1.00128866e+00  9.36482483e-01  2.23586208e-01\n",
      "   2.74033187e-01  8.98189799e-01  5.73428908e-01 -5.00874847e-03\n",
      "   1.19740419e-01  2.08974091e-01  2.56676290e-01  4.27891234e-01\n",
      "   4.03929238e-01  1.88748711e-01 -1.65728801e-01  1.62016688e-01\n",
      "   7.90839722e-02]\n",
      " [ 8.98039052e-01  9.36482483e-01  1.00128866e+00  1.71977357e-01\n",
      "   2.30730728e-01  9.68548601e-01  6.42421828e-01 -1.55856056e-01\n",
      "  -2.38762560e-02  2.02317274e-01  3.39785395e-01  3.82031198e-01\n",
      "   3.54835877e-01  2.74622251e-01 -2.23009677e-01  5.42906862e-02\n",
      "  -2.32810071e-02]\n",
      " [ 3.21756324e-01  2.23586208e-01  1.71977357e-01  1.00128866e+00\n",
      "   9.15052977e-01  1.11358019e-01 -1.80240778e-01  5.62884044e-01\n",
      "   3.57826139e-01  1.53650150e-01 -1.16880152e-01  5.44748764e-01\n",
      "   5.07401238e-01 -3.88425719e-01  4.56384036e-01  6.57885921e-01\n",
      "   4.94306540e-01]\n",
      " [ 3.64960691e-01  2.74033187e-01  2.30730728e-01  9.15052977e-01\n",
      "   1.00128866e+00  1.81429267e-01 -9.94231153e-02  4.90200034e-01\n",
      "   3.31413314e-01  1.69979808e-01 -8.69219644e-02  5.52172085e-01\n",
      "   5.28333659e-01 -2.97616423e-01  4.17369123e-01  5.73643193e-01\n",
      "   4.79601950e-01]\n",
      " [ 8.62111140e-01  8.98189799e-01  9.68548601e-01  1.11358019e-01\n",
      "   1.81429267e-01  1.00128866e+00  6.97027420e-01 -2.26457040e-01\n",
      "  -5.45459528e-02  2.08147257e-01  3.60246460e-01  3.62030390e-01\n",
      "   3.35485771e-01  3.24921933e-01 -2.85825062e-01  3.71119607e-04\n",
      "  -8.23447851e-02]\n",
      " [ 5.20492952e-01  5.73428908e-01  6.42421828e-01 -1.80240778e-01\n",
      "  -9.94231153e-02  6.97027420e-01  1.00128866e+00 -3.54672874e-01\n",
      "  -6.77252009e-02  1.22686416e-01  3.44495974e-01  1.27827147e-01\n",
      "   1.22309141e-01  3.71084841e-01 -4.19874031e-01 -2.02189396e-01\n",
      "  -2.65499420e-01]\n",
      " [ 6.54209711e-02 -5.00874847e-03 -1.55856056e-01  5.62884044e-01\n",
      "   4.90200034e-01 -2.26457040e-01 -3.54672874e-01  1.00128866e+00\n",
      "   6.56333564e-01  5.11656377e-03 -3.26028927e-01  3.91824814e-01\n",
      "   4.13110264e-01 -5.74421963e-01  5.66465309e-01  7.76326650e-01\n",
      "   5.73195743e-01]\n",
      " [ 1.87717056e-01  1.19740419e-01 -2.38762560e-02  3.57826139e-01\n",
      "   3.31413314e-01 -5.45459528e-02 -6.77252009e-02  6.56333564e-01\n",
      "   1.00128866e+00  1.09064551e-01 -2.19837042e-01  3.41908577e-01\n",
      "   3.79759015e-01 -3.76915472e-01  2.72743761e-01  5.81370284e-01\n",
      "   4.26338910e-01]\n",
      " [ 2.36441941e-01  2.08974091e-01  2.02317274e-01  1.53650150e-01\n",
      "   1.69979808e-01  2.08147257e-01  1.22686416e-01  5.11656377e-03\n",
      "   1.09064551e-01  1.00128866e+00  2.40172145e-01  1.36566243e-01\n",
      "   1.59523091e-01 -8.54689129e-03 -4.28870629e-02  1.50176551e-01\n",
      "  -8.06107505e-03]\n",
      " [ 2.30243993e-01  2.56676290e-01  3.39785395e-01 -1.16880152e-01\n",
      "  -8.69219644e-02  3.60246460e-01  3.44495974e-01 -3.26028927e-01\n",
      "  -2.19837042e-01  2.40172145e-01  1.00128866e+00 -1.16986124e-02\n",
      "  -3.20117803e-02  1.74136664e-01 -3.06146886e-01 -1.63481407e-01\n",
      "  -2.91268705e-01]\n",
      " [ 4.64521757e-01  4.27891234e-01  3.82031198e-01  5.44748764e-01\n",
      "   5.52172085e-01  3.62030390e-01  1.27827147e-01  3.91824814e-01\n",
      "   3.41908577e-01  1.36566243e-01 -1.16986124e-02  1.00128866e+00\n",
      "   8.64040263e-01 -1.29556494e-01  2.49197779e-01  5.11186852e-01\n",
      "   3.10418895e-01]\n",
      " [ 4.35037784e-01  4.03929238e-01  3.54835877e-01  5.07401238e-01\n",
      "   5.28333659e-01  3.35485771e-01  1.22309141e-01  4.13110264e-01\n",
      "   3.79759015e-01  1.59523091e-01 -3.20117803e-02  8.64040263e-01\n",
      "   1.00128866e+00 -1.51187934e-01  2.66375402e-01  5.24743500e-01\n",
      "   2.93180212e-01]\n",
      " [ 1.26573895e-01  1.88748711e-01  2.74622251e-01 -3.88425719e-01\n",
      "  -2.97616423e-01  3.24921933e-01  3.71084841e-01 -5.74421963e-01\n",
      "  -3.76915472e-01 -8.54689129e-03  1.74136664e-01 -1.29556494e-01\n",
      "  -1.51187934e-01  1.00128866e+00 -4.12632056e-01 -6.55219504e-01\n",
      "  -3.08922187e-01]\n",
      " [-1.01288006e-01 -1.65728801e-01 -2.23009677e-01  4.56384036e-01\n",
      "   4.17369123e-01 -2.85825062e-01 -4.19874031e-01  5.66465309e-01\n",
      "   2.72743761e-01 -4.28870629e-02 -3.06146886e-01  2.49197779e-01\n",
      "   2.66375402e-01 -4.12632056e-01  1.00128866e+00  4.63518674e-01\n",
      "   4.92040760e-01]\n",
      " [ 2.43248206e-01  1.62016688e-01  5.42906862e-02  6.57885921e-01\n",
      "   5.73643193e-01  3.71119607e-04 -2.02189396e-01  7.76326650e-01\n",
      "   5.81370284e-01  1.50176551e-01 -1.63481407e-01  5.11186852e-01\n",
      "   5.24743500e-01 -6.55219504e-01  4.63518674e-01  1.00128866e+00\n",
      "   4.15826026e-01]\n",
      " [ 1.50997775e-01  7.90839722e-02 -2.32810071e-02  4.94306540e-01\n",
      "   4.79601950e-01 -8.23447851e-02 -2.65499420e-01  5.73195743e-01\n",
      "   4.26338910e-01 -8.06107505e-03 -2.91268705e-01  3.10418895e-01\n",
      "   2.93180212e-01 -3.08922187e-01  4.92040760e-01  4.15826026e-01\n",
      "   1.00128866e+00]]\n"
     ]
    }
   ],
   "source": [
    "print('Note:- Before preparing the covariance matrix We have handled the outliers as well as standardize the dataset.')\n",
    "cov_matrix = np.cov(e2_new.T)\n",
    "print('Covariance Matrix \\n%s', cov_matrix)\n",
    "\n"
   ]
  },
  {
   "cell_type": "code",
   "execution_count": 135,
   "metadata": {},
   "outputs": [
    {
     "name": "stdout",
     "output_type": "stream",
     "text": [
      "Step 2- Get eigen values and eigen vector\n",
      "\n",
      " Eigen Values \n",
      " %s [5.6625219  4.89470815 1.12636744 1.00397659 0.87218426 0.7657541\n",
      " 0.58491404 0.5445048  0.42352336 0.38101777 0.24701456 0.02239369\n",
      " 0.03789395 0.14726392 0.13434483 0.09883384 0.07469003]\n",
      "Eigen Vectors \n",
      " %s [[-2.62171542e-01  3.14136258e-01  8.10177245e-02 -9.87761685e-02\n",
      "  -2.19898081e-01  2.18800617e-03 -2.83715076e-02 -8.99498102e-02\n",
      "   1.30566998e-01 -1.56464458e-01 -8.62132843e-02  1.82169814e-01\n",
      "  -5.99137640e-01  8.99775288e-02  8.88697944e-02  5.49428396e-01\n",
      "   5.41453698e-03]\n",
      " [-2.30562461e-01  3.44623583e-01  1.07658626e-01 -1.18140437e-01\n",
      "  -1.89634940e-01 -1.65212882e-02 -1.29584896e-02 -1.37606312e-01\n",
      "   1.42275847e-01 -1.49209799e-01 -4.25899061e-02 -3.91041719e-01\n",
      "   6.61496927e-01  1.58861886e-01  4.37945938e-02  2.91572312e-01\n",
      "   1.44582845e-02]\n",
      " [-1.89276397e-01  3.82813322e-01  8.55296892e-02 -9.30717094e-03\n",
      "  -1.62314818e-01 -6.80794143e-02 -1.52403625e-02 -1.44216938e-01\n",
      "   5.08712481e-02 -6.48997860e-02 -4.38408622e-02  7.16684935e-01\n",
      "   2.33235272e-01 -3.53988202e-02 -6.19241658e-02 -4.17001280e-01\n",
      "  -4.97908902e-02]\n",
      " [-3.38874521e-01 -9.93191661e-02 -7.88293849e-02  3.69115031e-01\n",
      "  -1.57211016e-01 -8.88656824e-02 -2.57455284e-01  2.89538833e-01\n",
      "  -1.22467790e-01 -3.58776186e-02  1.77837341e-03 -5.62053913e-02\n",
      "   2.21448729e-02 -3.92277722e-02  6.99599977e-02  8.79767299e-03\n",
      "  -7.23645373e-01]\n",
      " [-3.34690532e-01 -5.95055011e-02 -5.07938247e-02  4.16824361e-01\n",
      "  -1.44449474e-01 -2.76268979e-02 -2.39038849e-01  3.45643551e-01\n",
      "  -1.93936316e-01  6.41786425e-03 -1.02127328e-01  1.96735274e-02\n",
      "   3.22646978e-02  1.45621999e-01 -9.70282598e-02 -1.07779150e-02\n",
      "   6.55464648e-01]\n",
      " [-1.63293010e-01  3.98636372e-01  7.37077827e-02 -1.39504424e-02\n",
      "  -1.02728468e-01 -5.16468727e-02 -3.11751439e-02 -1.08748900e-01\n",
      "   1.45452749e-03 -1.63981359e-04 -3.49993487e-02 -5.42774834e-01\n",
      "  -3.67681187e-01 -1.33555923e-01 -8.71753137e-02 -5.70683843e-01\n",
      "   2.53059904e-02]\n",
      " [-2.24797091e-02  3.57550046e-01  4.03568700e-02 -2.25351078e-01\n",
      "   9.56790178e-02 -2.45375721e-02 -1.00138971e-02  1.23841696e-01\n",
      "  -6.34774326e-01  5.46346279e-01  2.52107094e-01  2.95029745e-02\n",
      "   2.62494456e-02  5.02487566e-02  4.45537493e-02  1.46321060e-01\n",
      "  -3.97146972e-02]\n",
      " [-2.83547285e-01 -2.51863617e-01  1.49394795e-02 -2.62975384e-01\n",
      "  -3.72750885e-02 -2.03860462e-02  9.45370782e-02  1.12721477e-02\n",
      "  -8.36648339e-03 -2.31799759e-01  5.93433149e-01  1.03393587e-03\n",
      "  -8.14247697e-02  5.60392799e-01  6.72405494e-02 -2.11561014e-01\n",
      "  -1.59275617e-03]\n",
      " [-2.44186588e-01 -1.31909124e-01 -2.11379165e-02 -5.80894132e-01\n",
      "   6.91080879e-02  2.37267409e-01  9.45210745e-02  3.89639465e-01\n",
      "  -2.20526518e-01 -2.55107620e-01 -4.75297296e-01  9.85725168e-03\n",
      "   2.67779296e-02 -1.07365653e-01  1.77715010e-02 -1.00935084e-01\n",
      "  -2.82578388e-02]\n",
      " [-9.67082754e-02  9.39739472e-02 -6.97121128e-01  3.61562884e-02\n",
      "  -3.54056654e-02  6.38604997e-01 -1.11193334e-01 -2.39817267e-01\n",
      "   2.10246624e-02  9.11624912e-02  4.35697999e-02  4.36086500e-03\n",
      "   1.04624246e-02  5.16224550e-02  3.54343707e-02 -2.86384228e-02\n",
      "  -8.06259380e-03]\n",
      " [ 3.52299594e-02  2.32439594e-01 -5.30972806e-01  1.14982973e-01\n",
      "   4.75358244e-04 -3.81495854e-01  6.39418106e-01  2.77206569e-01\n",
      "   1.73715184e-02 -1.27647512e-01  1.51627393e-02 -1.08725257e-02\n",
      "   4.54572099e-03  9.39409228e-03 -1.18604404e-02  3.38197909e-02\n",
      "   1.42590097e-03]\n",
      " [-3.26410696e-01  5.51390195e-02  8.11134044e-02  1.47260891e-01\n",
      "   5.50786546e-01  3.34444832e-03  8.92320786e-02 -3.42628480e-02\n",
      "   1.66510079e-01  1.00975002e-01 -3.91865961e-02  1.33146759e-02\n",
      "   1.25137966e-02 -7.16590441e-02  7.02656469e-01 -6.38096394e-02\n",
      "   8.31471932e-02]\n",
      " [-3.23115980e-01  4.30332048e-02  5.89785929e-02  8.90079921e-02\n",
      "   5.90407136e-01  3.54121294e-02  9.16985445e-02 -9.03076644e-02\n",
      "   1.12609034e-01  8.60363025e-02 -8.48575651e-02  7.38135022e-03\n",
      "  -1.79275275e-02  1.63820871e-01 -6.62488717e-01  9.85019644e-02\n",
      "  -1.13374007e-01]\n",
      " [ 1.63151642e-01  2.59804556e-01  2.74150657e-01  2.59486122e-01\n",
      "   1.42842546e-01  4.68752604e-01  1.52864837e-01  2.42807562e-01\n",
      "  -1.53685343e-01 -4.70527925e-01  3.63042716e-01  8.85797314e-03\n",
      "   1.83059753e-02 -2.39902591e-01 -4.79006197e-02  6.19970446e-02\n",
      "   3.83160891e-03]\n",
      " [-1.86610828e-01 -2.57092552e-01  1.03715887e-01  2.23982467e-01\n",
      "  -1.28215768e-01  1.25669415e-02  3.91400512e-01 -5.66073056e-01\n",
      "  -5.39235753e-01 -1.47628917e-01 -1.73918533e-01 -2.40534190e-02\n",
      "  -8.03169296e-05 -4.89753356e-02  3.58875507e-02  2.80805469e-02\n",
      "  -7.32598621e-03]\n",
      " [-3.28955847e-01 -1.60008951e-01 -1.84205687e-01 -2.13756140e-01\n",
      "   2.24240837e-02 -2.31562325e-01 -1.50501305e-01 -1.18823549e-01\n",
      "   2.42371616e-02 -8.04154875e-02  3.93722676e-01  1.05658769e-02\n",
      "   5.60069250e-02 -6.90417042e-01 -1.26667522e-01  1.28739213e-01\n",
      "   1.45099786e-01]\n",
      " [-2.38822447e-01 -1.67523664e-01  2.45335837e-01  3.61915064e-02\n",
      "  -3.56843227e-01  3.13556243e-01  4.68641965e-01  1.80458508e-01\n",
      "   3.15812873e-01  4.88415259e-01  8.72638706e-02 -2.51028410e-03\n",
      "   1.48410810e-02 -1.59332164e-01 -6.30737002e-02 -7.09643331e-03\n",
      "  -3.29024228e-03]]\n"
     ]
    }
   ],
   "source": [
    "print('Step 2- Get eigen values and eigen vector')\n",
    "eig_vals, eig_vecs = np.linalg.eig(cov_matrix)\n",
    "print('\\n Eigen Values \\n %s', eig_vals)\n",
    "print('Eigen Vectors \\n %s', eig_vecs)"
   ]
  },
  {
   "cell_type": "code",
   "execution_count": 134,
   "metadata": {},
   "outputs": [
    {
     "name": "stdout",
     "output_type": "stream",
     "text": [
      "2.6) Write the explicit form of the first PC (in terms of Eigen Vectors).\n",
      "First Principal Components in Eigen Vector\n"
     ]
    },
    {
     "data": {
      "text/plain": [
       "array([-0.26217154,  0.31413626,  0.08101772, -0.09877617, -0.21989808,\n",
       "        0.00218801, -0.02837151, -0.08994981,  0.130567  , -0.15646446,\n",
       "       -0.08621328,  0.18216981, -0.59913764,  0.08997753,  0.08886979,\n",
       "        0.5494284 ,  0.00541454])"
      ]
     },
     "execution_count": 134,
     "metadata": {},
     "output_type": "execute_result"
    }
   ],
   "source": [
    "print('2.6) Write the explicit form of the first PC (in terms of Eigen Vectors).')\n",
    "print('First Principal Components in Eigen Vector')\n",
    "eig_vecs[0]"
   ]
  },
  {
   "cell_type": "code",
   "execution_count": 50,
   "metadata": {},
   "outputs": [
    {
     "data": {
      "text/plain": [
       "Index(['Apps', 'Accept', 'Enroll', 'Top10perc', 'Top25perc', 'F.Undergrad',\n",
       "       'P.Undergrad', 'Outstate', 'Room.Board', 'Books', 'Personal', 'PhD',\n",
       "       'Terminal', 'S.F.Ratio', 'perc.alumni', 'Expend', 'Grad.Rate'],\n",
       "      dtype='object')"
      ]
     },
     "execution_count": 50,
     "metadata": {},
     "output_type": "execute_result"
    }
   ],
   "source": [
    "e2_new.columns"
   ]
  },
  {
   "cell_type": "code",
   "execution_count": 51,
   "metadata": {},
   "outputs": [
    {
     "name": "stdout",
     "output_type": "stream",
     "text": [
      "linear equation of First Principal component in terms of eigenvectors\n",
      "Apps(-0.2487656)+Accept(0.33159823)+Enroll(0.063092)+Top10perc(-0.28131053)+Top25perc(0.00574141)+\n",
      "F.Undergrad(0.01623744)+P.Undergrad(0.04248635)+Outstate(0.1030904+Room.Board(0.09022708)+Books(-0.0525098)+\n",
      "Personal(0.3589704)+PhD(-0.4591395)+Terminal(0.04304621)+S.F.Ratio(-0.13340581)+perc.alumni(0.0806328)+\n",
      "Expend(-0.59583097)+Grad.Rate(0.02407091)\n"
     ]
    }
   ],
   "source": [
    "print('linear equation of First Principal component in terms of eigenvectors')\n",
    "print('Apps(-0.2487656)+Accept(0.33159823)+Enroll(0.063092)+Top10perc(-0.28131053)+Top25perc(0.00574141)+')\n",
    "print('F.Undergrad(0.01623744)+P.Undergrad(0.04248635)+Outstate(0.1030904+Room.Board(0.09022708)+Books(-0.0525098)+')\n",
    "print('Personal(0.3589704)+PhD(-0.4591395)+Terminal(0.04304621)+S.F.Ratio(-0.13340581)+perc.alumni(0.0806328)+')\n",
    "print('Expend(-0.59583097)+Grad.Rate(0.02407091)')"
   ]
  },
  {
   "cell_type": "code",
   "execution_count": 133,
   "metadata": {},
   "outputs": [
    {
     "name": "stdout",
     "output_type": "stream",
     "text": [
      "cumulative values of the eigenvalues\n",
      "Cumulative Variance Explained [ 33.26608367  62.02142867  68.63859223  74.53673619  79.66062886\n",
      "  84.15926753  87.59551019  90.79435736  93.28246491  95.52086136\n",
      "  96.97201814  97.83716159  98.62640821  99.20703552  99.64582321\n",
      "  99.86844192 100.        ]\n"
     ]
    }
   ],
   "source": [
    "\n",
    "print ('cumulative values of the eigenvalues')\n",
    "tot=sum(eig_vals)\n",
    "var_exp = [( i /tot ) * 100 for i in sorted(eig_vals, reverse=True)]\n",
    "cum_var_exp = np.cumsum(var_exp)\n",
    "print(\"Cumulative Variance Explained\", cum_var_exp)\n"
   ]
  },
  {
   "cell_type": "code",
   "execution_count": 132,
   "metadata": {},
   "outputs": [
    {
     "name": "stdout",
     "output_type": "stream",
     "text": [
      "Scree plot\n"
     ]
    },
    {
     "data": {
      "text/plain": [
       "[<matplotlib.lines.Line2D at 0x245f1905388>]"
      ]
     },
     "execution_count": 132,
     "metadata": {},
     "output_type": "execute_result"
    },
    {
     "data": {
      "image/png": "[encoded data removed]",
      "text/plain": [
       "<Figure size 432x288 with 1 Axes>"
      ]
     },
     "metadata": {
      "needs_background": "light"
     },
     "output_type": "display_data"
    }
   ],
   "source": [
    "print('Scree plot')\n",
    "plt.plot(var_exp)"
   ]
  },
  {
   "cell_type": "code",
   "execution_count": 130,
   "metadata": {},
   "outputs": [
    {
     "name": "stdout",
     "output_type": "stream",
     "text": [
      "Visually we can observe that their is steep drop in variance explained with increase in number of PC\n",
      " We will proceed with 8 components here. But depending on requirement 90% variation or 8 components will also do good\n"
     ]
    }
   ],
   "source": [
    "print('Visually we can observe that their is steep drop in variance explained with increase in number of PC')\n",
    "print(' We will proceed with 8 components here. But depending on requirement 90% variation or 8 components will also do good')\n"
   ]
  },
  {
   "cell_type": "code",
   "execution_count": 131,
   "metadata": {},
   "outputs": [
    {
     "name": "stdout",
     "output_type": "stream",
     "text": [
      "Ploting\n"
     ]
    },
    {
     "data": {
      "image/png": "[encoded data removed]",
      "text/plain": [
       "<Figure size 720x360 with 1 Axes>"
      ]
     },
     "metadata": {
      "needs_background": "light"
     },
     "output_type": "display_data"
    }
   ],
   "source": [
    "print('Ploting') \n",
    "plt.figure(figsize=(10 , 5))\n",
    "plt.bar(range(1, eig_vals.size+1), var_exp, alpha = 0.5, align = 'center', label = 'Individual explained variance')\n",
    "#plt.step(range(1, eig_vals.size+1), cum_var_exp, where='mid', label = 'Cumulative explained variance')\n",
    "plt.ylabel('Explained Variance Ratio')\n",
    "plt.xlabel('Principal Components')\n",
    "plt.legend(loc = 'best')\n",
    "plt.tight_layout()\n",
    "plt.show()"
   ]
  },
  {
   "cell_type": "code",
   "execution_count": 129,
   "metadata": {},
   "outputs": [
    {
     "name": "stdout",
     "output_type": "stream",
     "text": [
      "Use PCA command from sklearn and find Principal Components\n",
      " Using scikit learn PCA here. It does all the above steps and maps data to PCA dimensions in one shot\n",
      " NOTE - we are generating only 8 PCA dimensions (dimensionality reduction from 18 to 8\n"
     ]
    },
    {
     "data": {
      "text/plain": [
       "array([[-1.60249937e+00,  9.93683013e-01,  3.00447636e-02, ...,\n",
       "        -6.97475824e-01,  7.10616255e-01,  8.95166868e-01],\n",
       "       [-1.80467545e+00, -7.04149922e-02,  2.12212752e+00, ...,\n",
       "         9.94858508e-01, -3.96083169e-01,  2.59664018e-01],\n",
       "       [-1.60828257e+00, -1.38279212e+00, -5.01512552e-01, ...,\n",
       "        -1.02623665e+00, -1.65310575e-01, -4.08817874e-01],\n",
       "       ...,\n",
       "       [-5.76882673e-01,  1.77984611e-02,  3.22160336e-01, ...,\n",
       "         5.04042792e-01, -1.45835209e+00, -2.89146665e-01],\n",
       "       [ 6.57095200e+00, -1.18493014e+00,  1.32596561e+00, ...,\n",
       "        -8.22745604e-01,  1.20132639e+00,  5.73988519e-03],\n",
       "       [-4.77393067e-01,  1.04394672e+00, -1.42543835e+00, ...,\n",
       "         1.05180970e+00,  1.07308672e+00,  6.05416581e-01]])"
      ]
     },
     "execution_count": 129,
     "metadata": {},
     "output_type": "execute_result"
    }
   ],
   "source": [
    "print('Use PCA command from sklearn and find Principal Components')\n",
    "\n",
    "print(' Using scikit learn PCA here. It does all the above steps and maps data to PCA dimensions in one shot')\n",
    "from sklearn.decomposition import PCA\n",
    "\n",
    "print(' NOTE - we are generating only 8 PCA dimensions (dimensionality reduction from 18 to 8')\n",
    "\n",
    "pca = PCA(n_components=8)\n",
    "data_reduced = pca.fit_transform(e2_new)\n",
    "data_reduced"
   ]
  },
  {
   "cell_type": "code",
   "execution_count": 128,
   "metadata": {},
   "outputs": [
    {
     "name": "stdout",
     "output_type": "stream",
     "text": [
      "cumulative sum of variance explained with [n] features\n"
     ]
    },
    {
     "data": {
      "text/plain": [
       "array([33.3, 62.1, 68.7, 74.6, 79.7, 84.2, 87.6, 90.8])"
      ]
     },
     "execution_count": 128,
     "metadata": {},
     "output_type": "execute_result"
    }
   ],
   "source": [
    "print('cumulative sum of variance explained with [n] features')\n",
    "from sklearn.decomposition import PCA\n",
    "var=np.cumsum(np.round(pca.explained_variance_ratio_, decimals=3)*100)\n",
    "var "
   ]
  },
  {
   "cell_type": "code",
   "execution_count": 124,
   "metadata": {},
   "outputs": [
    {
     "name": "stdout",
     "output_type": "stream",
     "text": [
      "2.7)A Discuss the cumulative values of the eigenvalues. How does it help you to decide on the optimum number of principal components? What do the eigenvectors indicate?\n",
      "The Cumulative 90.8 % gives the percentage of variance accounted for by the 8 components. For e.g,the cumulative percentage\n",
      "for the second component is the sum of the percentage of variance for the first and second components. It helps in deciding the \n",
      "number of components by selecting the components which explained the high variance\n",
      "In the above array we see that the first feature explains 33.3% of the variance within our data set while the first four\n",
      "explain 79.7 and so on. If we employ 8 features we capture ~ 90.8% of the variance within the dataset,thus we gain very little \n",
      "by implementing an additional feature (think of this as diminishing marginal return on total variance explained).\n"
     ]
    }
   ],
   "source": [
    "print('2.7)A Discuss the cumulative values of the eigenvalues. How does it help you to decide on the optimum number of principal components? What do the eigenvectors indicate?') \n",
    "\n",
    "print('The Cumulative 90.8 % gives the percentage of variance accounted for by the 8 components. For e.g,the cumulative percentage') \n",
    "print('for the second component is the sum of the percentage of variance for the first and second components. It helps in deciding the ')\n",
    "print('number of components by selecting the components which explained the high variance')\n",
    "print('In the above array we see that the first feature explains 33.3% of the variance within our data set while the first four' ) \n",
    "print('explain 79.7 and so on. If we employ 8 features we capture ~ 90.8% of the variance within the dataset,thus we gain very little ') \n",
    "print('by implementing an additional feature (think of this as diminishing marginal return on total variance explained).')"
   ]
  },
  {
   "cell_type": "code",
   "execution_count": 125,
   "metadata": {},
   "outputs": [
    {
     "name": "stdout",
     "output_type": "stream",
     "text": [
      "Perform PCA and export the data of the Principal Component scores into a data frame\n"
     ]
    },
    {
     "data": {
      "text/html": [
       "<div>\n",
       "<style scoped>\n",
       "    .dataframe tbody tr th:only-of-type {\n",
       "        vertical-align: middle;\n",
       "    }\n",
       "\n",
       "    .dataframe tbody tr th {\n",
       "        vertical-align: top;\n",
       "    }\n",
       "\n",
       "    .dataframe thead th {\n",
       "        text-align: right;\n",
       "    }\n",
       "</style>\n",
       "<table border=\"1\" class=\"dataframe\">\n",
       "  <thead>\n",
       "    <tr style=\"text-align: right;\">\n",
       "      <th></th>\n",
       "      <th>1</th>\n",
       "      <th>2</th>\n",
       "      <th>3</th>\n",
       "      <th>4</th>\n",
       "      <th>5</th>\n",
       "      <th>6</th>\n",
       "      <th>7</th>\n",
       "      <th>8</th>\n",
       "    </tr>\n",
       "  </thead>\n",
       "  <tbody>\n",
       "    <tr>\n",
       "      <td>1</td>\n",
       "      <td>-1.602499</td>\n",
       "      <td>0.993683</td>\n",
       "      <td>0.030045</td>\n",
       "      <td>-1.008422</td>\n",
       "      <td>-0.366886</td>\n",
       "      <td>-0.697476</td>\n",
       "      <td>0.710616</td>\n",
       "      <td>0.895167</td>\n",
       "    </tr>\n",
       "    <tr>\n",
       "      <td>2</td>\n",
       "      <td>-1.804675</td>\n",
       "      <td>-0.070415</td>\n",
       "      <td>2.122128</td>\n",
       "      <td>3.138941</td>\n",
       "      <td>2.453212</td>\n",
       "      <td>0.994859</td>\n",
       "      <td>-0.396083</td>\n",
       "      <td>0.259664</td>\n",
       "    </tr>\n",
       "    <tr>\n",
       "      <td>3</td>\n",
       "      <td>-1.608283</td>\n",
       "      <td>-1.382792</td>\n",
       "      <td>-0.501513</td>\n",
       "      <td>-0.036373</td>\n",
       "      <td>0.765997</td>\n",
       "      <td>-1.026237</td>\n",
       "      <td>-0.165311</td>\n",
       "      <td>-0.408818</td>\n",
       "    </tr>\n",
       "    <tr>\n",
       "      <td>4</td>\n",
       "      <td>2.803644</td>\n",
       "      <td>-3.367395</td>\n",
       "      <td>0.367768</td>\n",
       "      <td>-0.632914</td>\n",
       "      <td>-1.192601</td>\n",
       "      <td>-1.457080</td>\n",
       "      <td>-1.199862</td>\n",
       "      <td>0.357938</td>\n",
       "    </tr>\n",
       "    <tr>\n",
       "      <td>5</td>\n",
       "      <td>-2.200868</td>\n",
       "      <td>-0.099348</td>\n",
       "      <td>3.122523</td>\n",
       "      <td>0.657707</td>\n",
       "      <td>-1.828044</td>\n",
       "      <td>0.140915</td>\n",
       "      <td>-1.963228</td>\n",
       "      <td>-0.151893</td>\n",
       "    </tr>\n",
       "    <tr>\n",
       "      <td>...</td>\n",
       "      <td>...</td>\n",
       "      <td>...</td>\n",
       "      <td>...</td>\n",
       "      <td>...</td>\n",
       "      <td>...</td>\n",
       "      <td>...</td>\n",
       "      <td>...</td>\n",
       "      <td>...</td>\n",
       "    </tr>\n",
       "    <tr>\n",
       "      <td>773</td>\n",
       "      <td>-3.395392</td>\n",
       "      <td>1.995628</td>\n",
       "      <td>-0.744776</td>\n",
       "      <td>0.800067</td>\n",
       "      <td>-0.342732</td>\n",
       "      <td>0.573074</td>\n",
       "      <td>-0.171927</td>\n",
       "      <td>0.098249</td>\n",
       "    </tr>\n",
       "    <tr>\n",
       "      <td>774</td>\n",
       "      <td>0.319750</td>\n",
       "      <td>-0.314944</td>\n",
       "      <td>0.013597</td>\n",
       "      <td>0.653856</td>\n",
       "      <td>0.462527</td>\n",
       "      <td>0.741736</td>\n",
       "      <td>0.778473</td>\n",
       "      <td>-0.271679</td>\n",
       "    </tr>\n",
       "    <tr>\n",
       "      <td>775</td>\n",
       "      <td>-0.576883</td>\n",
       "      <td>0.017798</td>\n",
       "      <td>0.322160</td>\n",
       "      <td>-0.587259</td>\n",
       "      <td>0.175225</td>\n",
       "      <td>0.504043</td>\n",
       "      <td>-1.458352</td>\n",
       "      <td>-0.289147</td>\n",
       "    </tr>\n",
       "    <tr>\n",
       "      <td>776</td>\n",
       "      <td>6.570952</td>\n",
       "      <td>-1.184930</td>\n",
       "      <td>1.325966</td>\n",
       "      <td>0.077707</td>\n",
       "      <td>1.368517</td>\n",
       "      <td>-0.822746</td>\n",
       "      <td>1.201326</td>\n",
       "      <td>0.005740</td>\n",
       "    </tr>\n",
       "    <tr>\n",
       "      <td>777</td>\n",
       "      <td>-0.477393</td>\n",
       "      <td>1.043947</td>\n",
       "      <td>-1.425438</td>\n",
       "      <td>-1.300274</td>\n",
       "      <td>0.720918</td>\n",
       "      <td>1.051810</td>\n",
       "      <td>1.073087</td>\n",
       "      <td>0.605417</td>\n",
       "    </tr>\n",
       "  </tbody>\n",
       "</table>\n",
       "<p>777 rows × 8 columns</p>\n",
       "</div>"
      ],
      "text/plain": [
       "            1         2         3         4         5         6         7  \\\n",
       "1   -1.602499  0.993683  0.030045 -1.008422 -0.366886 -0.697476  0.710616   \n",
       "2   -1.804675 -0.070415  2.122128  3.138941  2.453212  0.994859 -0.396083   \n",
       "3   -1.608283 -1.382792 -0.501513 -0.036373  0.765997 -1.026237 -0.165311   \n",
       "4    2.803644 -3.367395  0.367768 -0.632914 -1.192601 -1.457080 -1.199862   \n",
       "5   -2.200868 -0.099348  3.122523  0.657707 -1.828044  0.140915 -1.963228   \n",
       "..        ...       ...       ...       ...       ...       ...       ...   \n",
       "773 -3.395392  1.995628 -0.744776  0.800067 -0.342732  0.573074 -0.171927   \n",
       "774  0.319750 -0.314944  0.013597  0.653856  0.462527  0.741736  0.778473   \n",
       "775 -0.576883  0.017798  0.322160 -0.587259  0.175225  0.504043 -1.458352   \n",
       "776  6.570952 -1.184930  1.325966  0.077707  1.368517 -0.822746  1.201326   \n",
       "777 -0.477393  1.043947 -1.425438 -1.300274  0.720918  1.051810  1.073087   \n",
       "\n",
       "            8  \n",
       "1    0.895167  \n",
       "2    0.259664  \n",
       "3   -0.408818  \n",
       "4    0.357938  \n",
       "5   -0.151893  \n",
       "..        ...  \n",
       "773  0.098249  \n",
       "774 -0.271679  \n",
       "775 -0.289147  \n",
       "776  0.005740  \n",
       "777  0.605417  \n",
       "\n",
       "[777 rows x 8 columns]"
      ]
     },
     "execution_count": 125,
     "metadata": {},
     "output_type": "execute_result"
    }
   ],
   "source": [
    "print('Perform PCA and export the data of the Principal Component scores into a data frame')\n",
    "df = pd.DataFrame(data_reduced)\n",
    "df.columns = df.columns+1\n",
    "df.index = df.index + 1\n",
    "df"
   ]
  },
  {
   "cell_type": "code",
   "execution_count": 126,
   "metadata": {},
   "outputs": [
    {
     "name": "stdout",
     "output_type": "stream",
     "text": [
      "2.7)B Perform PCA and export the data of the Principal Component scores into a data frame.\n"
     ]
    }
   ],
   "source": [
    "print('2.7)B Perform PCA and export the data of the Principal Component scores into a data frame.')\n",
    "df.to_csv('finalprinciaplComonents.csv',index=False,header=True)"
   ]
  },
  {
   "cell_type": "code",
   "execution_count": 127,
   "metadata": {},
   "outputs": [
    {
     "name": "stdout",
     "output_type": "stream",
     "text": [
      "2.7)C Cummulative Distribution of Eigen values\n"
     ]
    },
    {
     "data": {
      "text/plain": [
       "[<matplotlib.lines.Line2D at 0x245f172ca48>]"
      ]
     },
     "execution_count": 127,
     "metadata": {},
     "output_type": "execute_result"
    },
    {
     "data": {
      "image/png": "[encoded data removed]",
      "text/plain": [
       "<Figure size 432x288 with 1 Axes>"
      ]
     },
     "metadata": {
      "needs_background": "light"
     },
     "output_type": "display_data"
    }
   ],
   "source": [
    "print('2.7)C Cummulative Distribution of Eigen values')\n",
    "plt.ylabel('% Variance Explained')\n",
    "plt.xlabel('# of Features')\n",
    "plt.title('PCA Analysis')\n",
    "plt.ylim(30,100.5)\n",
    "plt.style.context('seaborn-whitegrid')\n",
    "plt.plot(var)"
   ]
  },
  {
   "cell_type": "code",
   "execution_count": 61,
   "metadata": {},
   "outputs": [
    {
     "name": "stdout",
     "output_type": "stream",
     "text": [
      "We have draw the graph for comulative Distribution of Eigen value. which show which principle components contribute\n",
      "how much variance\n"
     ]
    }
   ],
   "source": [
    "print('We have draw the graph for comulative Distribution of Eigen value. which show which principle components contribute') \n",
    "print('how much variance')"
   ]
  },
  {
   "cell_type": "code",
   "execution_count": 120,
   "metadata": {},
   "outputs": [
    {
     "name": "stdout",
     "output_type": "stream",
     "text": [
      "2.8) Mention the business implication of using the Principal Component Analysis for this case study.\n",
      "Principal component analysis is a technique for dimension reduction — so it combines  input variables in a specific way\n",
      "to drop the “least important” variables while still retaining the most valuable parts of all of the variables\n",
      "As an added benefit, each of the “new” variables after PCA are all independent of one another.\n",
      "with so many variables at hand it would be difficult  to decide which variables to focus on, in technical terms\n",
      "It is important to reduce the dimension of your feature space.Reducing the dimension of the feature space is called \n",
      "dimensionality reduction\n",
      "Initally In the given dataset , We have 18 variables . once PCA is done on the dataset we have reduced to 8 Principle\n",
      "components  which contains more than 90% of the variablity and seek most accurate data representation in a lower\n",
      "dimensional space .\n"
     ]
    }
   ],
   "source": [
    "print('2.8) Mention the business implication of using the Principal Component Analysis for this case study.')\n",
    "print('Principal component analysis is a technique for dimension reduction — so it combines  input variables in a specific way') \n",
    "print('to drop the “least important” variables while still retaining the most valuable parts of all of the variables')\n",
    "print('As an added benefit, each of the “new” variables after PCA are all independent of one another.')\n",
    "\n",
    "print('with so many variables at hand it would be difficult  to decide which variables to focus on, in technical terms') \n",
    "print('It is important to reduce the dimension of your feature space.Reducing the dimension of the feature space is called ') \n",
    "print('dimensionality reduction') \n",
    "\n",
    "print('Initally In the given dataset , We have 18 variables . once PCA is done on the dataset we have reduced to 8 Principle')\n",
    "print('components  which contains more than 90% of the variablity and seek most accurate data representation in a lower')\n",
    "print('dimensional space .')\n",
    "\n",
    "\n",
    "\n"
   ]
  },
  {
   "cell_type": "code",
   "execution_count": null,
   "metadata": {},
   "outputs": [],
   "source": []
  }
 ],
 "metadata": {
  "kernelspec": {
   "display_name": "Python 3",
   "language": "python",
   "name": "python3"
  },
  "language_info": {
   "codemirror_mode": {
    "name": "ipython",
    "version": 3
   },
   "file_extension": ".py",
   "mimetype": "text/x-python",
   "name": "python",
   "nbconvert_exporter": "python",
   "pygments_lexer": "ipython3",
   "version": "3.7.4"
  }
 },
 "nbformat": 4,
 "nbformat_minor": 2
}
